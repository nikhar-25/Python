{
 "cells": [
  {
   "cell_type": "code",
   "execution_count": 1,
   "id": "a09ad40e",
   "metadata": {},
   "outputs": [],
   "source": [
    "import pandas as pd\n",
    "import numpy as np\n",
    "import seaborn as sns\n",
    "import matplotlib.pyplot as plt\n",
    "from sklearn.model_selection import train_test_split\n",
    "from sklearn.linear_model import LogisticRegression\n",
    "from sklearn.metrics import roc_auc_score"
   ]
  },
  {
   "cell_type": "code",
   "execution_count": 2,
   "id": "25a8b357",
   "metadata": {},
   "outputs": [],
   "source": [
    "df = pd.read_excel(r'PhysicsWallah Hiring Assignment- Business Analyst.xlsx', sheet_name='Question 1 Data')"
   ]
  },
  {
   "cell_type": "code",
   "execution_count": 3,
   "id": "3a61e54c",
   "metadata": {},
   "outputs": [
    {
     "data": {
      "text/html": [
       "<div>\n",
       "<style scoped>\n",
       "    .dataframe tbody tr th:only-of-type {\n",
       "        vertical-align: middle;\n",
       "    }\n",
       "\n",
       "    .dataframe tbody tr th {\n",
       "        vertical-align: top;\n",
       "    }\n",
       "\n",
       "    .dataframe thead th {\n",
       "        text-align: right;\n",
       "    }\n",
       "</style>\n",
       "<table border=\"1\" class=\"dataframe\">\n",
       "  <thead>\n",
       "    <tr style=\"text-align: right;\">\n",
       "      <th></th>\n",
       "      <th>Customer ID</th>\n",
       "      <th>Customer Email</th>\n",
       "      <th>Purchase month</th>\n",
       "      <th>Number of user seats bought</th>\n",
       "      <th>Number of users added</th>\n",
       "      <th>Total number of logins</th>\n",
       "      <th>Customer Region</th>\n",
       "      <th>Total number of desktop sessions ran every month</th>\n",
       "      <th>Total number of mobile sessions ran every month</th>\n",
       "      <th>Month churned</th>\n",
       "      <th>Month repurchased</th>\n",
       "    </tr>\n",
       "  </thead>\n",
       "  <tbody>\n",
       "    <tr>\n",
       "      <th>0</th>\n",
       "      <td>11001</td>\n",
       "      <td>poole@xyz.com</td>\n",
       "      <td>January</td>\n",
       "      <td>2</td>\n",
       "      <td>2</td>\n",
       "      <td>16</td>\n",
       "      <td>North America</td>\n",
       "      <td>30</td>\n",
       "      <td>16</td>\n",
       "      <td>NaN</td>\n",
       "      <td>NaN</td>\n",
       "    </tr>\n",
       "    <tr>\n",
       "      <th>1</th>\n",
       "      <td>11002</td>\n",
       "      <td>billy@yahoo.com</td>\n",
       "      <td>January</td>\n",
       "      <td>10</td>\n",
       "      <td>4</td>\n",
       "      <td>8</td>\n",
       "      <td>North America</td>\n",
       "      <td>68</td>\n",
       "      <td>12</td>\n",
       "      <td>February</td>\n",
       "      <td>NaN</td>\n",
       "    </tr>\n",
       "    <tr>\n",
       "      <th>2</th>\n",
       "      <td>11003</td>\n",
       "      <td>sophie@yahoo.com</td>\n",
       "      <td>January</td>\n",
       "      <td>10</td>\n",
       "      <td>4</td>\n",
       "      <td>8</td>\n",
       "      <td>North America</td>\n",
       "      <td>40</td>\n",
       "      <td>4</td>\n",
       "      <td>February</td>\n",
       "      <td>NaN</td>\n",
       "    </tr>\n",
       "    <tr>\n",
       "      <th>3</th>\n",
       "      <td>11004</td>\n",
       "      <td>howard@xyz.com</td>\n",
       "      <td>January</td>\n",
       "      <td>2</td>\n",
       "      <td>2</td>\n",
       "      <td>14</td>\n",
       "      <td>Europe</td>\n",
       "      <td>16</td>\n",
       "      <td>20</td>\n",
       "      <td>NaN</td>\n",
       "      <td>NaN</td>\n",
       "    </tr>\n",
       "    <tr>\n",
       "      <th>4</th>\n",
       "      <td>11005</td>\n",
       "      <td>stewart@yahoo.com</td>\n",
       "      <td>January</td>\n",
       "      <td>10</td>\n",
       "      <td>2</td>\n",
       "      <td>4</td>\n",
       "      <td>Asia</td>\n",
       "      <td>12</td>\n",
       "      <td>8</td>\n",
       "      <td>February</td>\n",
       "      <td>NaN</td>\n",
       "    </tr>\n",
       "    <tr>\n",
       "      <th>5</th>\n",
       "      <td>11006</td>\n",
       "      <td>ince@xyz.com</td>\n",
       "      <td>January</td>\n",
       "      <td>5</td>\n",
       "      <td>5</td>\n",
       "      <td>30</td>\n",
       "      <td>North America</td>\n",
       "      <td>80</td>\n",
       "      <td>50</td>\n",
       "      <td>NaN</td>\n",
       "      <td>NaN</td>\n",
       "    </tr>\n",
       "    <tr>\n",
       "      <th>6</th>\n",
       "      <td>11007</td>\n",
       "      <td>lawrence@xyz.com</td>\n",
       "      <td>January</td>\n",
       "      <td>5</td>\n",
       "      <td>5</td>\n",
       "      <td>30</td>\n",
       "      <td>North America</td>\n",
       "      <td>15</td>\n",
       "      <td>45</td>\n",
       "      <td>NaN</td>\n",
       "      <td>NaN</td>\n",
       "    </tr>\n",
       "    <tr>\n",
       "      <th>7</th>\n",
       "      <td>11008</td>\n",
       "      <td>knox@xyz.com</td>\n",
       "      <td>January</td>\n",
       "      <td>5</td>\n",
       "      <td>5</td>\n",
       "      <td>40</td>\n",
       "      <td>North America</td>\n",
       "      <td>5</td>\n",
       "      <td>40</td>\n",
       "      <td>NaN</td>\n",
       "      <td>NaN</td>\n",
       "    </tr>\n",
       "    <tr>\n",
       "      <th>8</th>\n",
       "      <td>11009</td>\n",
       "      <td>lewis@xyz.com</td>\n",
       "      <td>January</td>\n",
       "      <td>5</td>\n",
       "      <td>5</td>\n",
       "      <td>45</td>\n",
       "      <td>North America</td>\n",
       "      <td>45</td>\n",
       "      <td>45</td>\n",
       "      <td>NaN</td>\n",
       "      <td>NaN</td>\n",
       "    </tr>\n",
       "    <tr>\n",
       "      <th>9</th>\n",
       "      <td>11010</td>\n",
       "      <td>ross@xyz.com</td>\n",
       "      <td>January</td>\n",
       "      <td>1</td>\n",
       "      <td>1</td>\n",
       "      <td>8</td>\n",
       "      <td>Europe</td>\n",
       "      <td>8</td>\n",
       "      <td>9</td>\n",
       "      <td>NaN</td>\n",
       "      <td>NaN</td>\n",
       "    </tr>\n",
       "  </tbody>\n",
       "</table>\n",
       "</div>"
      ],
      "text/plain": [
       "   Customer ID     Customer Email Purchase month  Number of user seats bought  \\\n",
       "0        11001      poole@xyz.com        January                            2   \n",
       "1        11002    billy@yahoo.com        January                           10   \n",
       "2        11003   sophie@yahoo.com        January                           10   \n",
       "3        11004     howard@xyz.com        January                            2   \n",
       "4        11005  stewart@yahoo.com        January                           10   \n",
       "5        11006       ince@xyz.com        January                            5   \n",
       "6        11007   lawrence@xyz.com        January                            5   \n",
       "7        11008       knox@xyz.com        January                            5   \n",
       "8        11009      lewis@xyz.com        January                            5   \n",
       "9        11010       ross@xyz.com        January                            1   \n",
       "\n",
       "   Number of users added   Total number of logins  Customer Region  \\\n",
       "0                       2                       16   North America   \n",
       "1                       4                        8   North America   \n",
       "2                       4                        8   North America   \n",
       "3                       2                       14          Europe   \n",
       "4                       2                        4            Asia   \n",
       "5                       5                       30   North America   \n",
       "6                       5                       30   North America   \n",
       "7                       5                       40   North America   \n",
       "8                       5                       45   North America   \n",
       "9                       1                        8          Europe   \n",
       "\n",
       "   Total number of desktop sessions ran every month  \\\n",
       "0                                                30   \n",
       "1                                                68   \n",
       "2                                                40   \n",
       "3                                                16   \n",
       "4                                                12   \n",
       "5                                                80   \n",
       "6                                                15   \n",
       "7                                                 5   \n",
       "8                                                45   \n",
       "9                                                 8   \n",
       "\n",
       "   Total number of mobile sessions ran every month Month churned  \\\n",
       "0                                               16           NaN   \n",
       "1                                               12      February   \n",
       "2                                                4      February   \n",
       "3                                               20           NaN   \n",
       "4                                                8      February   \n",
       "5                                               50           NaN   \n",
       "6                                               45           NaN   \n",
       "7                                               40           NaN   \n",
       "8                                               45           NaN   \n",
       "9                                                9           NaN   \n",
       "\n",
       "  Month repurchased  \n",
       "0               NaN  \n",
       "1               NaN  \n",
       "2               NaN  \n",
       "3               NaN  \n",
       "4               NaN  \n",
       "5               NaN  \n",
       "6               NaN  \n",
       "7               NaN  \n",
       "8               NaN  \n",
       "9               NaN  "
      ]
     },
     "execution_count": 3,
     "metadata": {},
     "output_type": "execute_result"
    }
   ],
   "source": [
    "df.head(10)"
   ]
  },
  {
   "cell_type": "code",
   "execution_count": 4,
   "id": "5fb7a65f",
   "metadata": {},
   "outputs": [],
   "source": [
    "df1=df.drop(['Customer ID','Customer Email','Month repurchased'],axis=1)"
   ]
  },
  {
   "cell_type": "code",
   "execution_count": 5,
   "id": "f6f62d53",
   "metadata": {},
   "outputs": [],
   "source": [
    "df2=df.drop(['Customer ID','Customer Email'],axis=1)"
   ]
  },
  {
   "cell_type": "code",
   "execution_count": 6,
   "id": "580b5a14",
   "metadata": {},
   "outputs": [],
   "source": [
    "df3=df.drop(['Customer ID','Customer Email','Month churned',],axis=1)"
   ]
  },
  {
   "cell_type": "code",
   "execution_count": 7,
   "id": "ce0138df",
   "metadata": {},
   "outputs": [
    {
     "data": {
      "text/html": [
       "<div>\n",
       "<style scoped>\n",
       "    .dataframe tbody tr th:only-of-type {\n",
       "        vertical-align: middle;\n",
       "    }\n",
       "\n",
       "    .dataframe tbody tr th {\n",
       "        vertical-align: top;\n",
       "    }\n",
       "\n",
       "    .dataframe thead th {\n",
       "        text-align: right;\n",
       "    }\n",
       "</style>\n",
       "<table border=\"1\" class=\"dataframe\">\n",
       "  <thead>\n",
       "    <tr style=\"text-align: right;\">\n",
       "      <th></th>\n",
       "      <th>Month churned</th>\n",
       "    </tr>\n",
       "  </thead>\n",
       "  <tbody>\n",
       "    <tr>\n",
       "      <th>0</th>\n",
       "      <td>NaN</td>\n",
       "    </tr>\n",
       "    <tr>\n",
       "      <th>1</th>\n",
       "      <td>February</td>\n",
       "    </tr>\n",
       "    <tr>\n",
       "      <th>2</th>\n",
       "      <td>February</td>\n",
       "    </tr>\n",
       "    <tr>\n",
       "      <th>3</th>\n",
       "      <td>NaN</td>\n",
       "    </tr>\n",
       "    <tr>\n",
       "      <th>4</th>\n",
       "      <td>February</td>\n",
       "    </tr>\n",
       "    <tr>\n",
       "      <th>...</th>\n",
       "      <td>...</td>\n",
       "    </tr>\n",
       "    <tr>\n",
       "      <th>1196</th>\n",
       "      <td>NaN</td>\n",
       "    </tr>\n",
       "    <tr>\n",
       "      <th>1197</th>\n",
       "      <td>NaN</td>\n",
       "    </tr>\n",
       "    <tr>\n",
       "      <th>1198</th>\n",
       "      <td>NaN</td>\n",
       "    </tr>\n",
       "    <tr>\n",
       "      <th>1199</th>\n",
       "      <td>NaN</td>\n",
       "    </tr>\n",
       "    <tr>\n",
       "      <th>1200</th>\n",
       "      <td>NaN</td>\n",
       "    </tr>\n",
       "  </tbody>\n",
       "</table>\n",
       "<p>1201 rows × 1 columns</p>\n",
       "</div>"
      ],
      "text/plain": [
       "     Month churned\n",
       "0              NaN\n",
       "1         February\n",
       "2         February\n",
       "3              NaN\n",
       "4         February\n",
       "...            ...\n",
       "1196           NaN\n",
       "1197           NaN\n",
       "1198           NaN\n",
       "1199           NaN\n",
       "1200           NaN\n",
       "\n",
       "[1201 rows x 1 columns]"
      ]
     },
     "execution_count": 7,
     "metadata": {},
     "output_type": "execute_result"
    }
   ],
   "source": [
    "df4=df.iloc[:,9:10]\n",
    "df4"
   ]
  },
  {
   "cell_type": "code",
   "execution_count": 8,
   "id": "01743482",
   "metadata": {},
   "outputs": [],
   "source": [
    "res = []\n",
    "for ind in df1.index:\n",
    "    if pd.isna(df1['Month churned'][ind]):\n",
    "        res.append(0)\n",
    "    else:\n",
    "        res.append(1)"
   ]
  },
  {
   "cell_type": "code",
   "execution_count": 9,
   "id": "2f39ede2",
   "metadata": {},
   "outputs": [],
   "source": [
    "df1.insert(8,\"churned\",res,True)"
   ]
  },
  {
   "cell_type": "code",
   "execution_count": 10,
   "id": "7b44a888",
   "metadata": {},
   "outputs": [
    {
     "data": {
      "text/html": [
       "<div>\n",
       "<style scoped>\n",
       "    .dataframe tbody tr th:only-of-type {\n",
       "        vertical-align: middle;\n",
       "    }\n",
       "\n",
       "    .dataframe tbody tr th {\n",
       "        vertical-align: top;\n",
       "    }\n",
       "\n",
       "    .dataframe thead th {\n",
       "        text-align: right;\n",
       "    }\n",
       "</style>\n",
       "<table border=\"1\" class=\"dataframe\">\n",
       "  <thead>\n",
       "    <tr style=\"text-align: right;\">\n",
       "      <th></th>\n",
       "      <th>Purchase month</th>\n",
       "      <th>Number of user seats bought</th>\n",
       "      <th>Number of users added</th>\n",
       "      <th>Total number of logins</th>\n",
       "      <th>Customer Region</th>\n",
       "      <th>Total number of desktop sessions ran every month</th>\n",
       "      <th>Total number of mobile sessions ran every month</th>\n",
       "      <th>Month churned</th>\n",
       "      <th>churned</th>\n",
       "    </tr>\n",
       "  </thead>\n",
       "  <tbody>\n",
       "    <tr>\n",
       "      <th>0</th>\n",
       "      <td>January</td>\n",
       "      <td>2</td>\n",
       "      <td>2</td>\n",
       "      <td>16</td>\n",
       "      <td>North America</td>\n",
       "      <td>30</td>\n",
       "      <td>16</td>\n",
       "      <td>NaN</td>\n",
       "      <td>0</td>\n",
       "    </tr>\n",
       "    <tr>\n",
       "      <th>1</th>\n",
       "      <td>January</td>\n",
       "      <td>10</td>\n",
       "      <td>4</td>\n",
       "      <td>8</td>\n",
       "      <td>North America</td>\n",
       "      <td>68</td>\n",
       "      <td>12</td>\n",
       "      <td>February</td>\n",
       "      <td>1</td>\n",
       "    </tr>\n",
       "    <tr>\n",
       "      <th>2</th>\n",
       "      <td>January</td>\n",
       "      <td>10</td>\n",
       "      <td>4</td>\n",
       "      <td>8</td>\n",
       "      <td>North America</td>\n",
       "      <td>40</td>\n",
       "      <td>4</td>\n",
       "      <td>February</td>\n",
       "      <td>1</td>\n",
       "    </tr>\n",
       "    <tr>\n",
       "      <th>3</th>\n",
       "      <td>January</td>\n",
       "      <td>2</td>\n",
       "      <td>2</td>\n",
       "      <td>14</td>\n",
       "      <td>Europe</td>\n",
       "      <td>16</td>\n",
       "      <td>20</td>\n",
       "      <td>NaN</td>\n",
       "      <td>0</td>\n",
       "    </tr>\n",
       "    <tr>\n",
       "      <th>4</th>\n",
       "      <td>January</td>\n",
       "      <td>10</td>\n",
       "      <td>2</td>\n",
       "      <td>4</td>\n",
       "      <td>Asia</td>\n",
       "      <td>12</td>\n",
       "      <td>8</td>\n",
       "      <td>February</td>\n",
       "      <td>1</td>\n",
       "    </tr>\n",
       "  </tbody>\n",
       "</table>\n",
       "</div>"
      ],
      "text/plain": [
       "  Purchase month  Number of user seats bought  Number of users added   \\\n",
       "0        January                            2                       2   \n",
       "1        January                           10                       4   \n",
       "2        January                           10                       4   \n",
       "3        January                            2                       2   \n",
       "4        January                           10                       2   \n",
       "\n",
       "   Total number of logins  Customer Region  \\\n",
       "0                       16   North America   \n",
       "1                        8   North America   \n",
       "2                        8   North America   \n",
       "3                       14          Europe   \n",
       "4                        4            Asia   \n",
       "\n",
       "   Total number of desktop sessions ran every month  \\\n",
       "0                                                30   \n",
       "1                                                68   \n",
       "2                                                40   \n",
       "3                                                16   \n",
       "4                                                12   \n",
       "\n",
       "   Total number of mobile sessions ran every month Month churned  churned  \n",
       "0                                               16           NaN        0  \n",
       "1                                               12      February        1  \n",
       "2                                                4      February        1  \n",
       "3                                               20           NaN        0  \n",
       "4                                                8      February        1  "
      ]
     },
     "execution_count": 10,
     "metadata": {},
     "output_type": "execute_result"
    }
   ],
   "source": [
    "df1.head(5)"
   ]
  },
  {
   "cell_type": "code",
   "execution_count": 11,
   "id": "33df7a70",
   "metadata": {},
   "outputs": [],
   "source": [
    "df1.columns = df1.columns.str.replace(' ', '_')"
   ]
  },
  {
   "cell_type": "code",
   "execution_count": 12,
   "id": "ba1aed55",
   "metadata": {},
   "outputs": [],
   "source": [
    "df1=df1.fillna(0)"
   ]
  },
  {
   "cell_type": "code",
   "execution_count": 13,
   "id": "f1d9f888",
   "metadata": {},
   "outputs": [
    {
     "name": "stdout",
     "output_type": "stream",
     "text": [
      "Target Variable\n",
      "churned\n",
      "0    841\n",
      "1    360\n",
      "Name: churned, dtype: int64\n"
     ]
    }
   ],
   "source": [
    "print('Target Variable')\n",
    "print(df1.groupby(['churned']).churned.count())"
   ]
  },
  {
   "cell_type": "code",
   "execution_count": 14,
   "id": "a18d222e",
   "metadata": {},
   "outputs": [
    {
     "name": "stdout",
     "output_type": "stream",
     "text": [
      "churned percentage: 29.97502081598668\n"
     ]
    }
   ],
   "source": [
    "x=df1['churned'].sum()/len(df)\n",
    "print(\"churned percentage:\",x*100)"
   ]
  },
  {
   "cell_type": "code",
   "execution_count": 15,
   "id": "7c7a7665",
   "metadata": {},
   "outputs": [
    {
     "name": "stderr",
     "output_type": "stream",
     "text": [
      "C:\\Users\\Nikhar M Singh\\anaconda3\\lib\\site-packages\\seaborn\\_decorators.py:36: FutureWarning: Pass the following variable as a keyword arg: x. From version 0.12, the only valid positional argument will be `data`, and passing other arguments without an explicit keyword will result in an error or misinterpretation.\n",
      "  warnings.warn(\n"
     ]
    },
    {
     "data": {
      "image/png": "[encoded data removed]",
      "text/plain": [
       "<Figure size 720x360 with 1 Axes>"
      ]
     },
     "metadata": {},
     "output_type": "display_data"
    }
   ],
   "source": [
    "sns.set_style('darkgrid')\n",
    "plt.figure(figsize = (10,5))\n",
    "sns.countplot(df1['churned'], alpha =.80, palette= ['grey','lightgreen'])\n",
    "plt.title('Non_Churning vs Churning')\n",
    "plt.ylabel('Customers')\n",
    "plt.show()"
   ]
  },
  {
   "cell_type": "code",
   "execution_count": 16,
   "id": "0abd8036",
   "metadata": {},
   "outputs": [
    {
     "data": {
      "text/plain": [
       "<Figure size 432x288 with 0 Axes>"
      ]
     },
     "metadata": {},
     "output_type": "display_data"
    },
    {
     "data": {
      "image/png": "[encoded data removed]",
      "text/plain": [
       "<Figure size 432x288 with 1 Axes>"
      ]
     },
     "metadata": {},
     "output_type": "display_data"
    },
    {
     "name": "stdout",
     "output_type": "stream",
     "text": [
      "churned            0      1\n",
      "Month_churned              \n",
      "0              841.0    NaN\n",
      "April            NaN  170.0\n",
      "February         NaN   60.0\n",
      "March            NaN  130.0\n"
     ]
    }
   ],
   "source": [
    "sns.set_style('darkgrid')\n",
    "plt.figure()\n",
    "ps = df1.groupby(['Month_churned','churned']).Month_churned.count().unstack()\n",
    "p1 = ps.plot(kind = 'bar', stacked = True, \n",
    "                   title = 'Month_churned : Not_Churning vs Churning', \n",
    "                   color = ['grey','lightgreen'], alpha = .70)\n",
    "p1.set_xlabel('Month_churned')\n",
    "p1.set_ylabel('Customers')\n",
    "p1.legend(['Non_Churning','Churning'])\n",
    "plt.show()\n",
    "print(ps)"
   ]
  },
  {
   "cell_type": "code",
   "execution_count": 17,
   "id": "71e61ed4",
   "metadata": {},
   "outputs": [
    {
     "data": {
      "text/plain": [
       "<Figure size 432x288 with 0 Axes>"
      ]
     },
     "metadata": {},
     "output_type": "display_data"
    },
    {
     "data": {
      "image/png": "[encoded data removed]",
      "text/plain": [
       "<Figure size 432x288 with 1 Axes>"
      ]
     },
     "metadata": {},
     "output_type": "display_data"
    },
    {
     "name": "stdout",
     "output_type": "stream",
     "text": [
      "churned            0    1\n",
      "Customer_Region          \n",
      "Asia              87  197\n",
      "Europe           280   55\n",
      "North America    474  108\n"
     ]
    }
   ],
   "source": [
    "sns.set_style('darkgrid')\n",
    "plt.figure()\n",
    "ps = df1.groupby(['Customer_Region','churned']).Customer_Region.count().unstack()\n",
    "p1 = ps.plot(kind = 'bar', stacked = True, \n",
    "                   title = 'Customer Region : Not_Churning vs Churning', \n",
    "                   color = ['grey','lightgreen'], alpha = .70)\n",
    "p1.set_xlabel('Customer Region')\n",
    "p1.set_ylabel('Customers')\n",
    "p1.legend(['Non_Churning','Churning'])\n",
    "plt.show()\n",
    "print(ps)"
   ]
  },
  {
   "cell_type": "code",
   "execution_count": 18,
   "id": "44133225",
   "metadata": {},
   "outputs": [
    {
     "data": {
      "text/plain": [
       "<Figure size 432x288 with 0 Axes>"
      ]
     },
     "metadata": {},
     "output_type": "display_data"
    },
    {
     "data": {
      "image/png": "[encoded data removed]",
      "text/plain": [
       "<Figure size 432x288 with 1 Axes>"
      ]
     },
     "metadata": {},
     "output_type": "display_data"
    },
    {
     "name": "stdout",
     "output_type": "stream",
     "text": [
      "churned                        0    1\n",
      "Number_of_user_seats_bought          \n",
      "1                            189  169\n",
      "2                            218   61\n",
      "5                            212   63\n",
      "10                           222   67\n"
     ]
    }
   ],
   "source": [
    "sns.set_style('darkgrid')\n",
    "plt.figure()\n",
    "ps = df1.groupby(['Number_of_user_seats_bought','churned']).Number_of_user_seats_bought.count().unstack()\n",
    "p1 = ps.plot(kind = 'bar', stacked = True, \n",
    "                   title = 'Number of user seats bought : Not_Churning vs Churning', \n",
    "                   color = ['grey','lightgreen'], alpha = .70)\n",
    "p1.set_xlabel('Number of user seats bought')\n",
    "p1.set_ylabel('Customers')\n",
    "p1.legend(['Non_Churning','Churning'])\n",
    "plt.show()\n",
    "print(ps)"
   ]
  },
  {
   "cell_type": "code",
   "execution_count": 19,
   "id": "429e0b61",
   "metadata": {},
   "outputs": [
    {
     "data": {
      "image/png": "[encoded data removed]",
      "text/plain": [
       "<Figure size 360x360 with 2 Axes>"
      ]
     },
     "metadata": {},
     "output_type": "display_data"
    }
   ],
   "source": [
    "corr = df1.corr()\n",
    "plt.figure(figsize=(5,5))\n",
    "ax=sns.heatmap(corr,annot=True,linewidth=.5,fmt='0.1f',\n",
    "               vmin=-1,vmax=1,cmap=\"coolwarm\")"
   ]
  },
  {
   "cell_type": "code",
   "execution_count": 20,
   "id": "520905bd",
   "metadata": {},
   "outputs": [
    {
     "data": {
      "text/html": [
       "<div>\n",
       "<style scoped>\n",
       "    .dataframe tbody tr th:only-of-type {\n",
       "        vertical-align: middle;\n",
       "    }\n",
       "\n",
       "    .dataframe tbody tr th {\n",
       "        vertical-align: top;\n",
       "    }\n",
       "\n",
       "    .dataframe thead th {\n",
       "        text-align: right;\n",
       "    }\n",
       "</style>\n",
       "<table border=\"1\" class=\"dataframe\">\n",
       "  <thead>\n",
       "    <tr style=\"text-align: right;\">\n",
       "      <th></th>\n",
       "      <th>Month churned</th>\n",
       "    </tr>\n",
       "  </thead>\n",
       "  <tbody>\n",
       "    <tr>\n",
       "      <th>0</th>\n",
       "      <td>NaN</td>\n",
       "    </tr>\n",
       "    <tr>\n",
       "      <th>1</th>\n",
       "      <td>February</td>\n",
       "    </tr>\n",
       "    <tr>\n",
       "      <th>2</th>\n",
       "      <td>February</td>\n",
       "    </tr>\n",
       "    <tr>\n",
       "      <th>3</th>\n",
       "      <td>NaN</td>\n",
       "    </tr>\n",
       "    <tr>\n",
       "      <th>4</th>\n",
       "      <td>February</td>\n",
       "    </tr>\n",
       "    <tr>\n",
       "      <th>...</th>\n",
       "      <td>...</td>\n",
       "    </tr>\n",
       "    <tr>\n",
       "      <th>1196</th>\n",
       "      <td>NaN</td>\n",
       "    </tr>\n",
       "    <tr>\n",
       "      <th>1197</th>\n",
       "      <td>NaN</td>\n",
       "    </tr>\n",
       "    <tr>\n",
       "      <th>1198</th>\n",
       "      <td>NaN</td>\n",
       "    </tr>\n",
       "    <tr>\n",
       "      <th>1199</th>\n",
       "      <td>NaN</td>\n",
       "    </tr>\n",
       "    <tr>\n",
       "      <th>1200</th>\n",
       "      <td>NaN</td>\n",
       "    </tr>\n",
       "  </tbody>\n",
       "</table>\n",
       "<p>1201 rows × 1 columns</p>\n",
       "</div>"
      ],
      "text/plain": [
       "     Month churned\n",
       "0              NaN\n",
       "1         February\n",
       "2         February\n",
       "3              NaN\n",
       "4         February\n",
       "...            ...\n",
       "1196           NaN\n",
       "1197           NaN\n",
       "1198           NaN\n",
       "1199           NaN\n",
       "1200           NaN\n",
       "\n",
       "[1201 rows x 1 columns]"
      ]
     },
     "execution_count": 20,
     "metadata": {},
     "output_type": "execute_result"
    }
   ],
   "source": [
    "df5=df.iloc[:,9:10]\n",
    "df5"
   ]
  },
  {
   "cell_type": "code",
   "execution_count": 21,
   "id": "b8b16ab1",
   "metadata": {},
   "outputs": [],
   "source": [
    "res = []\n",
    "for ind in df2.index:\n",
    "    if pd.isna(df2['Month churned'][ind]) and pd.isna(df2['Month repurchased'][ind]):\n",
    "        res.append(0)\n",
    "    elif pd.notna(df2['Month churned'][ind]) and pd.notna(df2['Month repurchased'][ind]):\n",
    "        res.append(0)\n",
    "    else:\n",
    "        res.append(1)"
   ]
  },
  {
   "cell_type": "code",
   "execution_count": 22,
   "id": "456c1874",
   "metadata": {},
   "outputs": [],
   "source": [
    "df2.insert(9,\"churned\",res,True)"
   ]
  },
  {
   "cell_type": "code",
   "execution_count": 23,
   "id": "07db65e7",
   "metadata": {},
   "outputs": [
    {
     "data": {
      "text/html": [
       "<div>\n",
       "<style scoped>\n",
       "    .dataframe tbody tr th:only-of-type {\n",
       "        vertical-align: middle;\n",
       "    }\n",
       "\n",
       "    .dataframe tbody tr th {\n",
       "        vertical-align: top;\n",
       "    }\n",
       "\n",
       "    .dataframe thead th {\n",
       "        text-align: right;\n",
       "    }\n",
       "</style>\n",
       "<table border=\"1\" class=\"dataframe\">\n",
       "  <thead>\n",
       "    <tr style=\"text-align: right;\">\n",
       "      <th></th>\n",
       "      <th>Purchase month</th>\n",
       "      <th>Number of user seats bought</th>\n",
       "      <th>Number of users added</th>\n",
       "      <th>Total number of logins</th>\n",
       "      <th>Customer Region</th>\n",
       "      <th>Total number of desktop sessions ran every month</th>\n",
       "      <th>Total number of mobile sessions ran every month</th>\n",
       "      <th>Month churned</th>\n",
       "      <th>Month repurchased</th>\n",
       "      <th>churned</th>\n",
       "    </tr>\n",
       "  </thead>\n",
       "  <tbody>\n",
       "    <tr>\n",
       "      <th>0</th>\n",
       "      <td>January</td>\n",
       "      <td>2</td>\n",
       "      <td>2</td>\n",
       "      <td>16</td>\n",
       "      <td>North America</td>\n",
       "      <td>30</td>\n",
       "      <td>16</td>\n",
       "      <td>NaN</td>\n",
       "      <td>NaN</td>\n",
       "      <td>0</td>\n",
       "    </tr>\n",
       "    <tr>\n",
       "      <th>1</th>\n",
       "      <td>January</td>\n",
       "      <td>10</td>\n",
       "      <td>4</td>\n",
       "      <td>8</td>\n",
       "      <td>North America</td>\n",
       "      <td>68</td>\n",
       "      <td>12</td>\n",
       "      <td>February</td>\n",
       "      <td>NaN</td>\n",
       "      <td>1</td>\n",
       "    </tr>\n",
       "    <tr>\n",
       "      <th>2</th>\n",
       "      <td>January</td>\n",
       "      <td>10</td>\n",
       "      <td>4</td>\n",
       "      <td>8</td>\n",
       "      <td>North America</td>\n",
       "      <td>40</td>\n",
       "      <td>4</td>\n",
       "      <td>February</td>\n",
       "      <td>NaN</td>\n",
       "      <td>1</td>\n",
       "    </tr>\n",
       "    <tr>\n",
       "      <th>3</th>\n",
       "      <td>January</td>\n",
       "      <td>2</td>\n",
       "      <td>2</td>\n",
       "      <td>14</td>\n",
       "      <td>Europe</td>\n",
       "      <td>16</td>\n",
       "      <td>20</td>\n",
       "      <td>NaN</td>\n",
       "      <td>NaN</td>\n",
       "      <td>0</td>\n",
       "    </tr>\n",
       "    <tr>\n",
       "      <th>4</th>\n",
       "      <td>January</td>\n",
       "      <td>10</td>\n",
       "      <td>2</td>\n",
       "      <td>4</td>\n",
       "      <td>Asia</td>\n",
       "      <td>12</td>\n",
       "      <td>8</td>\n",
       "      <td>February</td>\n",
       "      <td>NaN</td>\n",
       "      <td>1</td>\n",
       "    </tr>\n",
       "  </tbody>\n",
       "</table>\n",
       "</div>"
      ],
      "text/plain": [
       "  Purchase month  Number of user seats bought  Number of users added   \\\n",
       "0        January                            2                       2   \n",
       "1        January                           10                       4   \n",
       "2        January                           10                       4   \n",
       "3        January                            2                       2   \n",
       "4        January                           10                       2   \n",
       "\n",
       "   Total number of logins  Customer Region  \\\n",
       "0                       16   North America   \n",
       "1                        8   North America   \n",
       "2                        8   North America   \n",
       "3                       14          Europe   \n",
       "4                        4            Asia   \n",
       "\n",
       "   Total number of desktop sessions ran every month  \\\n",
       "0                                                30   \n",
       "1                                                68   \n",
       "2                                                40   \n",
       "3                                                16   \n",
       "4                                                12   \n",
       "\n",
       "   Total number of mobile sessions ran every month Month churned  \\\n",
       "0                                               16           NaN   \n",
       "1                                               12      February   \n",
       "2                                                4      February   \n",
       "3                                               20           NaN   \n",
       "4                                                8      February   \n",
       "\n",
       "  Month repurchased  churned  \n",
       "0               NaN        0  \n",
       "1               NaN        1  \n",
       "2               NaN        1  \n",
       "3               NaN        0  \n",
       "4               NaN        1  "
      ]
     },
     "execution_count": 23,
     "metadata": {},
     "output_type": "execute_result"
    }
   ],
   "source": [
    "df2.head(5)"
   ]
  },
  {
   "cell_type": "code",
   "execution_count": 24,
   "id": "d2bf8cbf",
   "metadata": {},
   "outputs": [],
   "source": [
    "df2=df2.fillna(0)"
   ]
  },
  {
   "cell_type": "code",
   "execution_count": 25,
   "id": "d09d1be2",
   "metadata": {},
   "outputs": [
    {
     "name": "stdout",
     "output_type": "stream",
     "text": [
      "Target Variable\n",
      "churned\n",
      "0    853\n",
      "1    348\n",
      "Name: churned, dtype: int64\n"
     ]
    }
   ],
   "source": [
    "print('Target Variable')\n",
    "print(df2.groupby(['churned']).churned.count())"
   ]
  },
  {
   "cell_type": "code",
   "execution_count": 26,
   "id": "94cb84c9",
   "metadata": {},
   "outputs": [
    {
     "name": "stdout",
     "output_type": "stream",
     "text": [
      "churned percentage 28.975853455453787\n"
     ]
    }
   ],
   "source": [
    "x=df2['churned'].sum()/len(df)\n",
    "print(\"churned percentage\",x*100)"
   ]
  },
  {
   "cell_type": "code",
   "execution_count": 27,
   "id": "76bf809c",
   "metadata": {},
   "outputs": [
    {
     "name": "stderr",
     "output_type": "stream",
     "text": [
      "C:\\Users\\Nikhar M Singh\\anaconda3\\lib\\site-packages\\seaborn\\_decorators.py:36: FutureWarning: Pass the following variable as a keyword arg: x. From version 0.12, the only valid positional argument will be `data`, and passing other arguments without an explicit keyword will result in an error or misinterpretation.\n",
      "  warnings.warn(\n"
     ]
    },
    {
     "data": {
      "image/png": "[encoded data removed]",
      "text/plain": [
       "<Figure size 720x360 with 1 Axes>"
      ]
     },
     "metadata": {},
     "output_type": "display_data"
    }
   ],
   "source": [
    "sns.set_style('darkgrid')\n",
    "plt.figure(figsize = (10,5))\n",
    "sns.countplot(df2['churned'], alpha =.80, palette= ['grey','lightgreen'])\n",
    "plt.title('Non_Churning vs Churning')\n",
    "plt.ylabel('Customers')\n",
    "plt.show()"
   ]
  },
  {
   "cell_type": "markdown",
   "id": "bd70a569",
   "metadata": {},
   "source": [
    "### Ques A).Based on the data above, the churn in BrowserX is 29.9%. But this is of limited use. Can you calculate churn in a way that provides better insight. What is that insight?"
   ]
  },
  {
   "cell_type": "markdown",
   "id": "44d1b152",
   "metadata": {},
   "source": [
    "Out of 1201 people,there are 841 people who has cancelled their plan.So 360/1201 = 29.9% but their 12 people plan who repurchased the cancelled plan again.<br>So it would be better those 12 people are not considered to be as churned people thus 841+12 = 853 are currently using the plan. 348/1201 =28.97%."
   ]
  },
  {
   "cell_type": "code",
   "execution_count": 28,
   "id": "8f5ffdf4",
   "metadata": {},
   "outputs": [],
   "source": [
    "data = pd.get_dummies(df1)"
   ]
  },
  {
   "cell_type": "code",
   "execution_count": 29,
   "id": "1a1b0f95",
   "metadata": {},
   "outputs": [
    {
     "data": {
      "text/html": [
       "<div>\n",
       "<style scoped>\n",
       "    .dataframe tbody tr th:only-of-type {\n",
       "        vertical-align: middle;\n",
       "    }\n",
       "\n",
       "    .dataframe tbody tr th {\n",
       "        vertical-align: top;\n",
       "    }\n",
       "\n",
       "    .dataframe thead th {\n",
       "        text-align: right;\n",
       "    }\n",
       "</style>\n",
       "<table border=\"1\" class=\"dataframe\">\n",
       "  <thead>\n",
       "    <tr style=\"text-align: right;\">\n",
       "      <th></th>\n",
       "      <th>Number_of_user_seats_bought</th>\n",
       "      <th>Number_of_users_added_</th>\n",
       "      <th>Total_number_of_logins_</th>\n",
       "      <th>Total_number_of_desktop_sessions_ran_every_month</th>\n",
       "      <th>Total_number_of_mobile_sessions_ran_every_month</th>\n",
       "      <th>churned</th>\n",
       "      <th>Purchase_month_February</th>\n",
       "      <th>Purchase_month_January</th>\n",
       "      <th>Purchase_month_March</th>\n",
       "      <th>Customer_Region_Asia</th>\n",
       "      <th>Customer_Region_Europe</th>\n",
       "      <th>Customer_Region_North America</th>\n",
       "      <th>Month_churned_0</th>\n",
       "      <th>Month_churned_April</th>\n",
       "      <th>Month_churned_February</th>\n",
       "      <th>Month_churned_March</th>\n",
       "    </tr>\n",
       "  </thead>\n",
       "  <tbody>\n",
       "    <tr>\n",
       "      <th>0</th>\n",
       "      <td>2</td>\n",
       "      <td>2</td>\n",
       "      <td>16</td>\n",
       "      <td>30</td>\n",
       "      <td>16</td>\n",
       "      <td>0</td>\n",
       "      <td>0</td>\n",
       "      <td>1</td>\n",
       "      <td>0</td>\n",
       "      <td>0</td>\n",
       "      <td>0</td>\n",
       "      <td>1</td>\n",
       "      <td>1</td>\n",
       "      <td>0</td>\n",
       "      <td>0</td>\n",
       "      <td>0</td>\n",
       "    </tr>\n",
       "    <tr>\n",
       "      <th>1</th>\n",
       "      <td>10</td>\n",
       "      <td>4</td>\n",
       "      <td>8</td>\n",
       "      <td>68</td>\n",
       "      <td>12</td>\n",
       "      <td>1</td>\n",
       "      <td>0</td>\n",
       "      <td>1</td>\n",
       "      <td>0</td>\n",
       "      <td>0</td>\n",
       "      <td>0</td>\n",
       "      <td>1</td>\n",
       "      <td>0</td>\n",
       "      <td>0</td>\n",
       "      <td>1</td>\n",
       "      <td>0</td>\n",
       "    </tr>\n",
       "    <tr>\n",
       "      <th>2</th>\n",
       "      <td>10</td>\n",
       "      <td>4</td>\n",
       "      <td>8</td>\n",
       "      <td>40</td>\n",
       "      <td>4</td>\n",
       "      <td>1</td>\n",
       "      <td>0</td>\n",
       "      <td>1</td>\n",
       "      <td>0</td>\n",
       "      <td>0</td>\n",
       "      <td>0</td>\n",
       "      <td>1</td>\n",
       "      <td>0</td>\n",
       "      <td>0</td>\n",
       "      <td>1</td>\n",
       "      <td>0</td>\n",
       "    </tr>\n",
       "    <tr>\n",
       "      <th>3</th>\n",
       "      <td>2</td>\n",
       "      <td>2</td>\n",
       "      <td>14</td>\n",
       "      <td>16</td>\n",
       "      <td>20</td>\n",
       "      <td>0</td>\n",
       "      <td>0</td>\n",
       "      <td>1</td>\n",
       "      <td>0</td>\n",
       "      <td>0</td>\n",
       "      <td>1</td>\n",
       "      <td>0</td>\n",
       "      <td>1</td>\n",
       "      <td>0</td>\n",
       "      <td>0</td>\n",
       "      <td>0</td>\n",
       "    </tr>\n",
       "    <tr>\n",
       "      <th>4</th>\n",
       "      <td>10</td>\n",
       "      <td>2</td>\n",
       "      <td>4</td>\n",
       "      <td>12</td>\n",
       "      <td>8</td>\n",
       "      <td>1</td>\n",
       "      <td>0</td>\n",
       "      <td>1</td>\n",
       "      <td>0</td>\n",
       "      <td>1</td>\n",
       "      <td>0</td>\n",
       "      <td>0</td>\n",
       "      <td>0</td>\n",
       "      <td>0</td>\n",
       "      <td>1</td>\n",
       "      <td>0</td>\n",
       "    </tr>\n",
       "  </tbody>\n",
       "</table>\n",
       "</div>"
      ],
      "text/plain": [
       "   Number_of_user_seats_bought  Number_of_users_added_  \\\n",
       "0                            2                       2   \n",
       "1                           10                       4   \n",
       "2                           10                       4   \n",
       "3                            2                       2   \n",
       "4                           10                       2   \n",
       "\n",
       "   Total_number_of_logins_  Total_number_of_desktop_sessions_ran_every_month  \\\n",
       "0                       16                                                30   \n",
       "1                        8                                                68   \n",
       "2                        8                                                40   \n",
       "3                       14                                                16   \n",
       "4                        4                                                12   \n",
       "\n",
       "   Total_number_of_mobile_sessions_ran_every_month  churned  \\\n",
       "0                                               16        0   \n",
       "1                                               12        1   \n",
       "2                                                4        1   \n",
       "3                                               20        0   \n",
       "4                                                8        1   \n",
       "\n",
       "   Purchase_month_February  Purchase_month_January  Purchase_month_March  \\\n",
       "0                        0                       1                     0   \n",
       "1                        0                       1                     0   \n",
       "2                        0                       1                     0   \n",
       "3                        0                       1                     0   \n",
       "4                        0                       1                     0   \n",
       "\n",
       "   Customer_Region_Asia  Customer_Region_Europe  \\\n",
       "0                     0                       0   \n",
       "1                     0                       0   \n",
       "2                     0                       0   \n",
       "3                     0                       1   \n",
       "4                     1                       0   \n",
       "\n",
       "   Customer_Region_North America  Month_churned_0  Month_churned_April  \\\n",
       "0                              1                1                    0   \n",
       "1                              1                0                    0   \n",
       "2                              1                0                    0   \n",
       "3                              0                1                    0   \n",
       "4                              0                0                    0   \n",
       "\n",
       "   Month_churned_February  Month_churned_March  \n",
       "0                       0                    0  \n",
       "1                       1                    0  \n",
       "2                       1                    0  \n",
       "3                       0                    0  \n",
       "4                       1                    0  "
      ]
     },
     "execution_count": 29,
     "metadata": {},
     "output_type": "execute_result"
    }
   ],
   "source": [
    "data.head(5)"
   ]
  },
  {
   "cell_type": "code",
   "execution_count": 30,
   "id": "1c604cbb",
   "metadata": {},
   "outputs": [],
   "source": [
    "churned_col = data.pop('churned')\n",
    "data.insert(15,'churned',churned_col)"
   ]
  },
  {
   "cell_type": "code",
   "execution_count": 31,
   "id": "1c70bbef",
   "metadata": {},
   "outputs": [
    {
     "name": "stderr",
     "output_type": "stream",
     "text": [
      "C:\\Users\\Nikhar M Singh\\anaconda3\\lib\\site-packages\\sklearn\\utils\\validation.py:63: DataConversionWarning: A column-vector y was passed when a 1d array was expected. Please change the shape of y to (n_samples, ), for example using ravel().\n",
      "  return f(*args, **kwargs)\n",
      "C:\\Users\\Nikhar M Singh\\anaconda3\\lib\\site-packages\\sklearn\\utils\\validation.py:63: DataConversionWarning: A column-vector y was passed when a 1d array was expected. Please change the shape of y to (n_samples, ), for example using ravel().\n",
      "  return f(*args, **kwargs)\n",
      "C:\\Users\\Nikhar M Singh\\anaconda3\\lib\\site-packages\\sklearn\\utils\\validation.py:63: DataConversionWarning: A column-vector y was passed when a 1d array was expected. Please change the shape of y to (n_samples, ), for example using ravel().\n",
      "  return f(*args, **kwargs)\n",
      "C:\\Users\\Nikhar M Singh\\anaconda3\\lib\\site-packages\\sklearn\\utils\\validation.py:63: DataConversionWarning: A column-vector y was passed when a 1d array was expected. Please change the shape of y to (n_samples, ), for example using ravel().\n",
      "  return f(*args, **kwargs)\n",
      "C:\\Users\\Nikhar M Singh\\anaconda3\\lib\\site-packages\\sklearn\\utils\\validation.py:63: DataConversionWarning: A column-vector y was passed when a 1d array was expected. Please change the shape of y to (n_samples, ), for example using ravel().\n",
      "  return f(*args, **kwargs)\n",
      "C:\\Users\\Nikhar M Singh\\anaconda3\\lib\\site-packages\\sklearn\\utils\\validation.py:63: DataConversionWarning: A column-vector y was passed when a 1d array was expected. Please change the shape of y to (n_samples, ), for example using ravel().\n",
      "  return f(*args, **kwargs)\n",
      "C:\\Users\\Nikhar M Singh\\anaconda3\\lib\\site-packages\\sklearn\\utils\\validation.py:63: DataConversionWarning: A column-vector y was passed when a 1d array was expected. Please change the shape of y to (n_samples, ), for example using ravel().\n",
      "  return f(*args, **kwargs)\n",
      "C:\\Users\\Nikhar M Singh\\anaconda3\\lib\\site-packages\\sklearn\\utils\\validation.py:63: DataConversionWarning: A column-vector y was passed when a 1d array was expected. Please change the shape of y to (n_samples, ), for example using ravel().\n",
      "  return f(*args, **kwargs)\n",
      "C:\\Users\\Nikhar M Singh\\anaconda3\\lib\\site-packages\\sklearn\\utils\\validation.py:63: DataConversionWarning: A column-vector y was passed when a 1d array was expected. Please change the shape of y to (n_samples, ), for example using ravel().\n",
      "  return f(*args, **kwargs)\n",
      "C:\\Users\\Nikhar M Singh\\anaconda3\\lib\\site-packages\\sklearn\\utils\\validation.py:63: DataConversionWarning: A column-vector y was passed when a 1d array was expected. Please change the shape of y to (n_samples, ), for example using ravel().\n",
      "  return f(*args, **kwargs)\n",
      "C:\\Users\\Nikhar M Singh\\anaconda3\\lib\\site-packages\\sklearn\\utils\\validation.py:63: DataConversionWarning: A column-vector y was passed when a 1d array was expected. Please change the shape of y to (n_samples, ), for example using ravel().\n",
      "  return f(*args, **kwargs)\n",
      "C:\\Users\\Nikhar M Singh\\anaconda3\\lib\\site-packages\\sklearn\\utils\\validation.py:63: DataConversionWarning: A column-vector y was passed when a 1d array was expected. Please change the shape of y to (n_samples, ), for example using ravel().\n",
      "  return f(*args, **kwargs)\n",
      "C:\\Users\\Nikhar M Singh\\anaconda3\\lib\\site-packages\\sklearn\\utils\\validation.py:63: DataConversionWarning: A column-vector y was passed when a 1d array was expected. Please change the shape of y to (n_samples, ), for example using ravel().\n",
      "  return f(*args, **kwargs)\n",
      "C:\\Users\\Nikhar M Singh\\anaconda3\\lib\\site-packages\\sklearn\\utils\\validation.py:63: DataConversionWarning: A column-vector y was passed when a 1d array was expected. Please change the shape of y to (n_samples, ), for example using ravel().\n",
      "  return f(*args, **kwargs)\n",
      "C:\\Users\\Nikhar M Singh\\anaconda3\\lib\\site-packages\\sklearn\\utils\\validation.py:63: DataConversionWarning: A column-vector y was passed when a 1d array was expected. Please change the shape of y to (n_samples, ), for example using ravel().\n",
      "  return f(*args, **kwargs)\n"
     ]
    }
   ],
   "source": [
    "X = data.iloc[:,:-1]\n",
    "y = data.iloc[:,-1:]\n",
    "\n",
    "#splitting the data into train set and test set\n",
    "X_train, X_test, y_train, y_test = train_test_split(X,y,test_size=0.2, random_state =100)\n",
    "roc_values = []\n",
    "for feature in X_train.columns:\n",
    "    clf = LogisticRegression(random_state = 0)\n",
    "    clf.fit(X_train[feature].fillna(0).to_frame(), y_train)\n",
    "    y_scored = clf.predict_proba(X_test[feature].fillna(0).to_frame())\n",
    "    roc_values.append(roc_auc_score(y_test, y_scored[:, 1]))\n",
    "\n",
    "roc_values = pd.Series(roc_values)\n",
    "roc_values.index = X_train.columns"
   ]
  },
  {
   "cell_type": "code",
   "execution_count": 32,
   "id": "cdf41f1b",
   "metadata": {},
   "outputs": [
    {
     "data": {
      "text/plain": [
       "Month_churned_0                                     1.000000\n",
       "Total_number_of_logins_                             0.996810\n",
       "Total_number_of_mobile_sessions_ran_every_month     0.967823\n",
       "Number_of_users_added_                              0.785805\n",
       "Total_number_of_desktop_sessions_ran_every_month    0.752871\n",
       "Month_churned_April                                 0.736842\n",
       "Customer_Region_Asia                                0.721770\n",
       "Month_churned_March                                 0.677632\n",
       "Number_of_user_seats_bought                         0.622967\n",
       "Customer_Region_North America                       0.614833\n",
       "Customer_Region_Europe                              0.606938\n",
       "Month_churned_February                              0.585526\n",
       "Purchase_month_January                              0.527033\n",
       "Purchase_month_March                                0.515550\n",
       "Purchase_month_February                             0.511483\n",
       "dtype: float64"
      ]
     },
     "execution_count": 32,
     "metadata": {},
     "output_type": "execute_result"
    }
   ],
   "source": [
    "roc_values.sort_values(ascending=False)"
   ]
  },
  {
   "cell_type": "code",
   "execution_count": 33,
   "id": "174dd271",
   "metadata": {},
   "outputs": [
    {
     "data": {
      "text/plain": [
       "Text(0.5, 1.0, 'Univariate ROC-AUC')"
      ]
     },
     "execution_count": 33,
     "metadata": {},
     "output_type": "execute_result"
    },
    {
     "data": {
      "image/png": "[encoded data removed]",
      "text/plain": [
       "<Figure size 1440x576 with 1 Axes>"
      ]
     },
     "metadata": {},
     "output_type": "display_data"
    }
   ],
   "source": [
    "roc_values.sort_values(ascending=False).plot.bar(figsize=(20, 8))\n",
    "plt.title('Univariate ROC-AUC')"
   ]
  },
  {
   "cell_type": "markdown",
   "id": "f3e40407",
   "metadata": {},
   "source": [
    "### Ques B). Identify parameters that may be causing churn from the above dataset and explain why."
   ]
  },
  {
   "cell_type": "markdown",
   "id": "749e3d7d",
   "metadata": {},
   "source": [
    "Ans- Univariate ROC-AUC method measures the dependence of two variables. It’s suitable for all variables, and also makes no assumptions about their distribution.\n",
    "\n",
    "The ROC values shows the rate of dependency of dependent coloumn with given independent coloumn.If the values is less than 0.5 it means two columns are not dependent\n",
    "\n",
    "From the above analysis we can say that the churned value depends mostly on number of logins.\n",
    "<br>1.If the persons has maximum login on BrowserX that person will most likely continue the plan.\n",
    "<br>2.The Person who are using mobile version of BroswerX have more number of sessions and are more likely to continue the plan.\n",
    "<br>3.The plan in which maximum no. of users are added are expected to continue the plan.\n",
    "<br>4.Larger no. of people are continue the plan in asia region as compared to other region."
   ]
  },
  {
   "cell_type": "code",
   "execution_count": 34,
   "id": "9669a7d5",
   "metadata": {},
   "outputs": [
    {
     "data": {
      "text/html": [
       "<div>\n",
       "<style scoped>\n",
       "    .dataframe tbody tr th:only-of-type {\n",
       "        vertical-align: middle;\n",
       "    }\n",
       "\n",
       "    .dataframe tbody tr th {\n",
       "        vertical-align: top;\n",
       "    }\n",
       "\n",
       "    .dataframe thead th {\n",
       "        text-align: right;\n",
       "    }\n",
       "</style>\n",
       "<table border=\"1\" class=\"dataframe\">\n",
       "  <thead>\n",
       "    <tr style=\"text-align: right;\">\n",
       "      <th></th>\n",
       "      <th>Purchase month</th>\n",
       "      <th>Number of user seats bought</th>\n",
       "      <th>Number of users added</th>\n",
       "      <th>Total number of logins</th>\n",
       "      <th>Customer Region</th>\n",
       "      <th>Total number of desktop sessions ran every month</th>\n",
       "      <th>Total number of mobile sessions ran every month</th>\n",
       "      <th>Month repurchased</th>\n",
       "    </tr>\n",
       "  </thead>\n",
       "  <tbody>\n",
       "    <tr>\n",
       "      <th>0</th>\n",
       "      <td>January</td>\n",
       "      <td>2</td>\n",
       "      <td>2</td>\n",
       "      <td>16</td>\n",
       "      <td>North America</td>\n",
       "      <td>30</td>\n",
       "      <td>16</td>\n",
       "      <td>NaN</td>\n",
       "    </tr>\n",
       "    <tr>\n",
       "      <th>1</th>\n",
       "      <td>January</td>\n",
       "      <td>10</td>\n",
       "      <td>4</td>\n",
       "      <td>8</td>\n",
       "      <td>North America</td>\n",
       "      <td>68</td>\n",
       "      <td>12</td>\n",
       "      <td>NaN</td>\n",
       "    </tr>\n",
       "    <tr>\n",
       "      <th>2</th>\n",
       "      <td>January</td>\n",
       "      <td>10</td>\n",
       "      <td>4</td>\n",
       "      <td>8</td>\n",
       "      <td>North America</td>\n",
       "      <td>40</td>\n",
       "      <td>4</td>\n",
       "      <td>NaN</td>\n",
       "    </tr>\n",
       "    <tr>\n",
       "      <th>3</th>\n",
       "      <td>January</td>\n",
       "      <td>2</td>\n",
       "      <td>2</td>\n",
       "      <td>14</td>\n",
       "      <td>Europe</td>\n",
       "      <td>16</td>\n",
       "      <td>20</td>\n",
       "      <td>NaN</td>\n",
       "    </tr>\n",
       "    <tr>\n",
       "      <th>4</th>\n",
       "      <td>January</td>\n",
       "      <td>10</td>\n",
       "      <td>2</td>\n",
       "      <td>4</td>\n",
       "      <td>Asia</td>\n",
       "      <td>12</td>\n",
       "      <td>8</td>\n",
       "      <td>NaN</td>\n",
       "    </tr>\n",
       "  </tbody>\n",
       "</table>\n",
       "</div>"
      ],
      "text/plain": [
       "  Purchase month  Number of user seats bought  Number of users added   \\\n",
       "0        January                            2                       2   \n",
       "1        January                           10                       4   \n",
       "2        January                           10                       4   \n",
       "3        January                            2                       2   \n",
       "4        January                           10                       2   \n",
       "\n",
       "   Total number of logins  Customer Region  \\\n",
       "0                       16   North America   \n",
       "1                        8   North America   \n",
       "2                        8   North America   \n",
       "3                       14          Europe   \n",
       "4                        4            Asia   \n",
       "\n",
       "   Total number of desktop sessions ran every month  \\\n",
       "0                                                30   \n",
       "1                                                68   \n",
       "2                                                40   \n",
       "3                                                16   \n",
       "4                                                12   \n",
       "\n",
       "   Total number of mobile sessions ran every month Month repurchased  \n",
       "0                                               16               NaN  \n",
       "1                                               12               NaN  \n",
       "2                                                4               NaN  \n",
       "3                                               20               NaN  \n",
       "4                                                8               NaN  "
      ]
     },
     "execution_count": 34,
     "metadata": {},
     "output_type": "execute_result"
    }
   ],
   "source": [
    "df3.head(5)"
   ]
  },
  {
   "cell_type": "code",
   "execution_count": 35,
   "id": "720e723f",
   "metadata": {},
   "outputs": [],
   "source": [
    "df3=df3.fillna(0)"
   ]
  },
  {
   "cell_type": "code",
   "execution_count": 36,
   "id": "970ee364",
   "metadata": {},
   "outputs": [],
   "source": [
    "df3[\"Month repurchased\"].replace({\"March\":1,\"April\":1,\"May\":1},inplace=True)"
   ]
  },
  {
   "cell_type": "code",
   "execution_count": 37,
   "id": "c97916c6",
   "metadata": {},
   "outputs": [],
   "source": [
    "data = pd.get_dummies(df3)"
   ]
  },
  {
   "cell_type": "code",
   "execution_count": 38,
   "id": "ee34576d",
   "metadata": {},
   "outputs": [],
   "source": [
    "col = data.pop('Month repurchased')\n",
    "data.insert(11,'Month repurchased',churned_col)"
   ]
  },
  {
   "cell_type": "code",
   "execution_count": 39,
   "id": "bca32624",
   "metadata": {},
   "outputs": [
    {
     "data": {
      "text/html": [
       "<div>\n",
       "<style scoped>\n",
       "    .dataframe tbody tr th:only-of-type {\n",
       "        vertical-align: middle;\n",
       "    }\n",
       "\n",
       "    .dataframe tbody tr th {\n",
       "        vertical-align: top;\n",
       "    }\n",
       "\n",
       "    .dataframe thead th {\n",
       "        text-align: right;\n",
       "    }\n",
       "</style>\n",
       "<table border=\"1\" class=\"dataframe\">\n",
       "  <thead>\n",
       "    <tr style=\"text-align: right;\">\n",
       "      <th></th>\n",
       "      <th>Number of user seats bought</th>\n",
       "      <th>Number of users added</th>\n",
       "      <th>Total number of logins</th>\n",
       "      <th>Total number of desktop sessions ran every month</th>\n",
       "      <th>Total number of mobile sessions ran every month</th>\n",
       "      <th>Purchase month_February</th>\n",
       "      <th>Purchase month_January</th>\n",
       "      <th>Purchase month_March</th>\n",
       "      <th>Customer Region_Asia</th>\n",
       "      <th>Customer Region_Europe</th>\n",
       "      <th>Customer Region_North America</th>\n",
       "      <th>Month repurchased</th>\n",
       "    </tr>\n",
       "  </thead>\n",
       "  <tbody>\n",
       "    <tr>\n",
       "      <th>0</th>\n",
       "      <td>2</td>\n",
       "      <td>2</td>\n",
       "      <td>16</td>\n",
       "      <td>30</td>\n",
       "      <td>16</td>\n",
       "      <td>0</td>\n",
       "      <td>1</td>\n",
       "      <td>0</td>\n",
       "      <td>0</td>\n",
       "      <td>0</td>\n",
       "      <td>1</td>\n",
       "      <td>0</td>\n",
       "    </tr>\n",
       "    <tr>\n",
       "      <th>1</th>\n",
       "      <td>10</td>\n",
       "      <td>4</td>\n",
       "      <td>8</td>\n",
       "      <td>68</td>\n",
       "      <td>12</td>\n",
       "      <td>0</td>\n",
       "      <td>1</td>\n",
       "      <td>0</td>\n",
       "      <td>0</td>\n",
       "      <td>0</td>\n",
       "      <td>1</td>\n",
       "      <td>1</td>\n",
       "    </tr>\n",
       "    <tr>\n",
       "      <th>2</th>\n",
       "      <td>10</td>\n",
       "      <td>4</td>\n",
       "      <td>8</td>\n",
       "      <td>40</td>\n",
       "      <td>4</td>\n",
       "      <td>0</td>\n",
       "      <td>1</td>\n",
       "      <td>0</td>\n",
       "      <td>0</td>\n",
       "      <td>0</td>\n",
       "      <td>1</td>\n",
       "      <td>1</td>\n",
       "    </tr>\n",
       "    <tr>\n",
       "      <th>3</th>\n",
       "      <td>2</td>\n",
       "      <td>2</td>\n",
       "      <td>14</td>\n",
       "      <td>16</td>\n",
       "      <td>20</td>\n",
       "      <td>0</td>\n",
       "      <td>1</td>\n",
       "      <td>0</td>\n",
       "      <td>0</td>\n",
       "      <td>1</td>\n",
       "      <td>0</td>\n",
       "      <td>0</td>\n",
       "    </tr>\n",
       "    <tr>\n",
       "      <th>4</th>\n",
       "      <td>10</td>\n",
       "      <td>2</td>\n",
       "      <td>4</td>\n",
       "      <td>12</td>\n",
       "      <td>8</td>\n",
       "      <td>0</td>\n",
       "      <td>1</td>\n",
       "      <td>0</td>\n",
       "      <td>1</td>\n",
       "      <td>0</td>\n",
       "      <td>0</td>\n",
       "      <td>1</td>\n",
       "    </tr>\n",
       "  </tbody>\n",
       "</table>\n",
       "</div>"
      ],
      "text/plain": [
       "   Number of user seats bought  Number of users added   \\\n",
       "0                            2                       2   \n",
       "1                           10                       4   \n",
       "2                           10                       4   \n",
       "3                            2                       2   \n",
       "4                           10                       2   \n",
       "\n",
       "   Total number of logins   Total number of desktop sessions ran every month  \\\n",
       "0                       16                                                30   \n",
       "1                        8                                                68   \n",
       "2                        8                                                40   \n",
       "3                       14                                                16   \n",
       "4                        4                                                12   \n",
       "\n",
       "   Total number of mobile sessions ran every month  Purchase month_February  \\\n",
       "0                                               16                        0   \n",
       "1                                               12                        0   \n",
       "2                                                4                        0   \n",
       "3                                               20                        0   \n",
       "4                                                8                        0   \n",
       "\n",
       "   Purchase month_January  Purchase month_March  Customer Region_Asia  \\\n",
       "0                       1                     0                     0   \n",
       "1                       1                     0                     0   \n",
       "2                       1                     0                     0   \n",
       "3                       1                     0                     0   \n",
       "4                       1                     0                     1   \n",
       "\n",
       "   Customer Region_Europe  Customer Region_North America  Month repurchased  \n",
       "0                       0                              1                  0  \n",
       "1                       0                              1                  1  \n",
       "2                       0                              1                  1  \n",
       "3                       1                              0                  0  \n",
       "4                       0                              0                  1  "
      ]
     },
     "execution_count": 39,
     "metadata": {},
     "output_type": "execute_result"
    }
   ],
   "source": [
    "data.head(5)"
   ]
  },
  {
   "cell_type": "code",
   "execution_count": 40,
   "id": "45759c16",
   "metadata": {},
   "outputs": [
    {
     "name": "stderr",
     "output_type": "stream",
     "text": [
      "C:\\Users\\Nikhar M Singh\\anaconda3\\lib\\site-packages\\sklearn\\utils\\validation.py:63: DataConversionWarning: A column-vector y was passed when a 1d array was expected. Please change the shape of y to (n_samples, ), for example using ravel().\n",
      "  return f(*args, **kwargs)\n",
      "C:\\Users\\Nikhar M Singh\\anaconda3\\lib\\site-packages\\sklearn\\utils\\validation.py:63: DataConversionWarning: A column-vector y was passed when a 1d array was expected. Please change the shape of y to (n_samples, ), for example using ravel().\n",
      "  return f(*args, **kwargs)\n",
      "C:\\Users\\Nikhar M Singh\\anaconda3\\lib\\site-packages\\sklearn\\utils\\validation.py:63: DataConversionWarning: A column-vector y was passed when a 1d array was expected. Please change the shape of y to (n_samples, ), for example using ravel().\n",
      "  return f(*args, **kwargs)\n",
      "C:\\Users\\Nikhar M Singh\\anaconda3\\lib\\site-packages\\sklearn\\utils\\validation.py:63: DataConversionWarning: A column-vector y was passed when a 1d array was expected. Please change the shape of y to (n_samples, ), for example using ravel().\n",
      "  return f(*args, **kwargs)\n",
      "C:\\Users\\Nikhar M Singh\\anaconda3\\lib\\site-packages\\sklearn\\utils\\validation.py:63: DataConversionWarning: A column-vector y was passed when a 1d array was expected. Please change the shape of y to (n_samples, ), for example using ravel().\n",
      "  return f(*args, **kwargs)\n",
      "C:\\Users\\Nikhar M Singh\\anaconda3\\lib\\site-packages\\sklearn\\utils\\validation.py:63: DataConversionWarning: A column-vector y was passed when a 1d array was expected. Please change the shape of y to (n_samples, ), for example using ravel().\n",
      "  return f(*args, **kwargs)\n",
      "C:\\Users\\Nikhar M Singh\\anaconda3\\lib\\site-packages\\sklearn\\utils\\validation.py:63: DataConversionWarning: A column-vector y was passed when a 1d array was expected. Please change the shape of y to (n_samples, ), for example using ravel().\n",
      "  return f(*args, **kwargs)\n",
      "C:\\Users\\Nikhar M Singh\\anaconda3\\lib\\site-packages\\sklearn\\utils\\validation.py:63: DataConversionWarning: A column-vector y was passed when a 1d array was expected. Please change the shape of y to (n_samples, ), for example using ravel().\n",
      "  return f(*args, **kwargs)\n",
      "C:\\Users\\Nikhar M Singh\\anaconda3\\lib\\site-packages\\sklearn\\utils\\validation.py:63: DataConversionWarning: A column-vector y was passed when a 1d array was expected. Please change the shape of y to (n_samples, ), for example using ravel().\n",
      "  return f(*args, **kwargs)\n",
      "C:\\Users\\Nikhar M Singh\\anaconda3\\lib\\site-packages\\sklearn\\utils\\validation.py:63: DataConversionWarning: A column-vector y was passed when a 1d array was expected. Please change the shape of y to (n_samples, ), for example using ravel().\n",
      "  return f(*args, **kwargs)\n",
      "C:\\Users\\Nikhar M Singh\\anaconda3\\lib\\site-packages\\sklearn\\utils\\validation.py:63: DataConversionWarning: A column-vector y was passed when a 1d array was expected. Please change the shape of y to (n_samples, ), for example using ravel().\n",
      "  return f(*args, **kwargs)\n"
     ]
    }
   ],
   "source": [
    "X = data.iloc[:,:-1]\n",
    "y = data.iloc[:,-1:]\n",
    "\n",
    "#splitting the data into train set and test set\n",
    "X_train, X_test, y_train, y_test = train_test_split(X,y,test_size=0.2, random_state =100)\n",
    "roc_values = []\n",
    "for feature in X_train.columns:\n",
    "    clf = LogisticRegression(random_state = 0)\n",
    "    clf.fit(X_train[feature].fillna(0).to_frame(), y_train)\n",
    "    y_scored = clf.predict_proba(X_test[feature].fillna(0).to_frame())\n",
    "    roc_values.append(roc_auc_score(y_test, y_scored[:, 1]))\n",
    "\n",
    "roc_values = pd.Series(roc_values)\n",
    "roc_values.index = X_train.columns"
   ]
  },
  {
   "cell_type": "code",
   "execution_count": 41,
   "id": "38bf2fa5",
   "metadata": {},
   "outputs": [
    {
     "data": {
      "text/plain": [
       "Total number of logins                              0.996810\n",
       "Total number of mobile sessions ran every month     0.967823\n",
       "Number of users added                               0.785805\n",
       "Total number of desktop sessions ran every month    0.752871\n",
       "Customer Region_Asia                                0.721770\n",
       "Number of user seats bought                         0.622967\n",
       "Customer Region_North America                       0.614833\n",
       "Customer Region_Europe                              0.606938\n",
       "Purchase month_January                              0.527033\n",
       "Purchase month_March                                0.515550\n",
       "Purchase month_February                             0.511483\n",
       "dtype: float64"
      ]
     },
     "execution_count": 41,
     "metadata": {},
     "output_type": "execute_result"
    }
   ],
   "source": [
    "roc_values.sort_values(ascending=False)"
   ]
  },
  {
   "cell_type": "code",
   "execution_count": 42,
   "id": "3c213808",
   "metadata": {},
   "outputs": [
    {
     "data": {
      "text/plain": [
       "Text(0.5, 1.0, 'Univariate ROC-AUC')"
      ]
     },
     "execution_count": 42,
     "metadata": {},
     "output_type": "execute_result"
    },
    {
     "data": {
      "image/png": "[encoded data removed]",
      "text/plain": [
       "<Figure size 1440x576 with 1 Axes>"
      ]
     },
     "metadata": {},
     "output_type": "display_data"
    }
   ],
   "source": [
    "roc_values.sort_values(ascending=False).plot.bar(figsize=(20, 8))\n",
    "plt.title('Univariate ROC-AUC')"
   ]
  },
  {
   "cell_type": "markdown",
   "id": "4a43ba7f",
   "metadata": {},
   "source": [
    "### Ques C). What is your inference about repurchases using this dataset?"
   ]
  },
  {
   "cell_type": "markdown",
   "id": "131e461c",
   "metadata": {},
   "source": [
    "Ans- Univariate ROC-AUC method measures the dependence of two variables. It’s suitable for all variables, and also makes no assumptions about their distribution.\n",
    "\n",
    "The ROC values shows the rate of dependency of dependent coloumn with given independent coloumn.If the values is less than 0.5 it means two columns are not dependent\n",
    "\n",
    "From the above analysis we can say that the churned value depends mostly on number of logins.\n",
    "<br>1.If the persons has maximum login on BrowserX that person will most likely to repurchase the plan.\n",
    "<br>2.The Person who are using mobile version of BroswerX have more number of sessions and are more likely to repurchase the plan.\n",
    "<br>3.The plan in which maximum no. of users and maximum no. of seats are added are expected to repurchase the plan.\n",
    "<br>4.The person using the BrowserX in the Asia region are most likely to repurchase the plan"
   ]
  },
  {
   "cell_type": "code",
   "execution_count": 43,
   "id": "4bb15bb5",
   "metadata": {},
   "outputs": [],
   "source": [
    "df6=df"
   ]
  },
  {
   "cell_type": "code",
   "execution_count": 44,
   "id": "74abde68",
   "metadata": {},
   "outputs": [],
   "source": [
    "df6=df6.dropna()"
   ]
  },
  {
   "cell_type": "code",
   "execution_count": 45,
   "id": "cea6df42",
   "metadata": {},
   "outputs": [
    {
     "name": "stderr",
     "output_type": "stream",
     "text": [
      "C:\\Users\\Nikhar M Singh\\anaconda3\\lib\\site-packages\\pandas\\core\\series.py:4509: SettingWithCopyWarning: \n",
      "A value is trying to be set on a copy of a slice from a DataFrame\n",
      "\n",
      "See the caveats in the documentation: https://pandas.pydata.org/pandas-docs/stable/user_guide/indexing.html#returning-a-view-versus-a-copy\n",
      "  return super().replace(\n"
     ]
    }
   ],
   "source": [
    "df6[\"Month churned\"].replace({\"January\":1,\"February\":2,\"March\":3,\"April\":4},inplace=True)\n",
    "df6[\"Purchase month\"].replace({\"January\":1,\"February\":2,\"March\":3},inplace=True)"
   ]
  },
  {
   "cell_type": "code",
   "execution_count": 46,
   "id": "2754e88f",
   "metadata": {},
   "outputs": [
    {
     "name": "stdout",
     "output_type": "stream",
     "text": [
      "index: 14 Value: 1\n",
      "index: 15 Value: 1\n",
      "index: 50 Value: 1\n",
      "index: 103 Value: 1\n",
      "index: 124 Value: 1\n",
      "index: 154 Value: 1\n",
      "index: 160 Value: 1\n",
      "index: 206 Value: 1\n",
      "index: 369 Value: 1\n",
      "index: 430 Value: 1\n",
      "index: 693 Value: 1\n",
      "index: 1121 Value: 1\n"
     ]
    }
   ],
   "source": [
    "res1=[]\n",
    "for i in df6.index:\n",
    "    x=(df6['Month churned'][i]-df6['Purchase month'][i])\n",
    "    if(x<0):\n",
    "        x=x * -1\n",
    "    res1.append(x)\n",
    "    print(\"index:\",i,\"Value:\",x)"
   ]
  },
  {
   "cell_type": "code",
   "execution_count": 47,
   "id": "aa45dae8",
   "metadata": {},
   "outputs": [],
   "source": [
    "df6.insert(11,\"Month_after_which_left\",res1,True)"
   ]
  },
  {
   "cell_type": "code",
   "execution_count": 48,
   "id": "942205fa",
   "metadata": {},
   "outputs": [
    {
     "data": {
      "text/html": [
       "<div>\n",
       "<style scoped>\n",
       "    .dataframe tbody tr th:only-of-type {\n",
       "        vertical-align: middle;\n",
       "    }\n",
       "\n",
       "    .dataframe tbody tr th {\n",
       "        vertical-align: top;\n",
       "    }\n",
       "\n",
       "    .dataframe thead th {\n",
       "        text-align: right;\n",
       "    }\n",
       "</style>\n",
       "<table border=\"1\" class=\"dataframe\">\n",
       "  <thead>\n",
       "    <tr style=\"text-align: right;\">\n",
       "      <th></th>\n",
       "      <th>Customer ID</th>\n",
       "      <th>Customer Email</th>\n",
       "      <th>Purchase month</th>\n",
       "      <th>Number of user seats bought</th>\n",
       "      <th>Number of users added</th>\n",
       "      <th>Total number of logins</th>\n",
       "      <th>Customer Region</th>\n",
       "      <th>Total number of desktop sessions ran every month</th>\n",
       "      <th>Total number of mobile sessions ran every month</th>\n",
       "      <th>Month churned</th>\n",
       "      <th>Month repurchased</th>\n",
       "      <th>Month_after_which_left</th>\n",
       "    </tr>\n",
       "  </thead>\n",
       "  <tbody>\n",
       "    <tr>\n",
       "      <th>14</th>\n",
       "      <td>11015</td>\n",
       "      <td>kristina@yahoo.com</td>\n",
       "      <td>1</td>\n",
       "      <td>1</td>\n",
       "      <td>1</td>\n",
       "      <td>1</td>\n",
       "      <td>North America</td>\n",
       "      <td>11</td>\n",
       "      <td>4</td>\n",
       "      <td>2</td>\n",
       "      <td>March</td>\n",
       "      <td>1</td>\n",
       "    </tr>\n",
       "    <tr>\n",
       "      <th>15</th>\n",
       "      <td>11016</td>\n",
       "      <td>timmy@yahoo.com</td>\n",
       "      <td>1</td>\n",
       "      <td>1</td>\n",
       "      <td>1</td>\n",
       "      <td>2</td>\n",
       "      <td>North America</td>\n",
       "      <td>5</td>\n",
       "      <td>2</td>\n",
       "      <td>2</td>\n",
       "      <td>April</td>\n",
       "      <td>1</td>\n",
       "    </tr>\n",
       "    <tr>\n",
       "      <th>50</th>\n",
       "      <td>11051</td>\n",
       "      <td>edmund@yahoo.com</td>\n",
       "      <td>1</td>\n",
       "      <td>1</td>\n",
       "      <td>1</td>\n",
       "      <td>1</td>\n",
       "      <td>North America</td>\n",
       "      <td>16</td>\n",
       "      <td>3</td>\n",
       "      <td>2</td>\n",
       "      <td>April</td>\n",
       "      <td>1</td>\n",
       "    </tr>\n",
       "    <tr>\n",
       "      <th>103</th>\n",
       "      <td>11104</td>\n",
       "      <td>juanita@yahoo.com</td>\n",
       "      <td>1</td>\n",
       "      <td>1</td>\n",
       "      <td>1</td>\n",
       "      <td>2</td>\n",
       "      <td>North America</td>\n",
       "      <td>17</td>\n",
       "      <td>4</td>\n",
       "      <td>2</td>\n",
       "      <td>March</td>\n",
       "      <td>1</td>\n",
       "    </tr>\n",
       "    <tr>\n",
       "      <th>124</th>\n",
       "      <td>11125</td>\n",
       "      <td>kayla@yahoo.com</td>\n",
       "      <td>1</td>\n",
       "      <td>1</td>\n",
       "      <td>1</td>\n",
       "      <td>1</td>\n",
       "      <td>Europe</td>\n",
       "      <td>6</td>\n",
       "      <td>5</td>\n",
       "      <td>2</td>\n",
       "      <td>April</td>\n",
       "      <td>1</td>\n",
       "    </tr>\n",
       "  </tbody>\n",
       "</table>\n",
       "</div>"
      ],
      "text/plain": [
       "     Customer ID      Customer Email  Purchase month  \\\n",
       "14         11015  kristina@yahoo.com               1   \n",
       "15         11016     timmy@yahoo.com               1   \n",
       "50         11051    edmund@yahoo.com               1   \n",
       "103        11104   juanita@yahoo.com               1   \n",
       "124        11125     kayla@yahoo.com               1   \n",
       "\n",
       "     Number of user seats bought  Number of users added   \\\n",
       "14                             1                       1   \n",
       "15                             1                       1   \n",
       "50                             1                       1   \n",
       "103                            1                       1   \n",
       "124                            1                       1   \n",
       "\n",
       "     Total number of logins  Customer Region  \\\n",
       "14                         1   North America   \n",
       "15                         2   North America   \n",
       "50                         1   North America   \n",
       "103                        2   North America   \n",
       "124                        1          Europe   \n",
       "\n",
       "     Total number of desktop sessions ran every month  \\\n",
       "14                                                 11   \n",
       "15                                                  5   \n",
       "50                                                 16   \n",
       "103                                                17   \n",
       "124                                                 6   \n",
       "\n",
       "     Total number of mobile sessions ran every month  Month churned  \\\n",
       "14                                                 4              2   \n",
       "15                                                 2              2   \n",
       "50                                                 3              2   \n",
       "103                                                4              2   \n",
       "124                                                5              2   \n",
       "\n",
       "    Month repurchased  Month_after_which_left  \n",
       "14              March                       1  \n",
       "15              April                       1  \n",
       "50              April                       1  \n",
       "103             March                       1  \n",
       "124             April                       1  "
      ]
     },
     "execution_count": 48,
     "metadata": {},
     "output_type": "execute_result"
    }
   ],
   "source": [
    "df6.head(5)"
   ]
  },
  {
   "cell_type": "markdown",
   "id": "ad512ef0",
   "metadata": {},
   "source": [
    "### Ques D).Provide at least 5 suggestions to reduce customer churn"
   ]
  },
  {
   "cell_type": "markdown",
   "id": "e9e7047f",
   "metadata": {},
   "source": [
    "Ans- \n",
    "<br>1.Since mobile is more handy and portable to people as compared to desktop.So we should popularize the mobile version and make more easy to use.\n",
    "<br>2.As we can see most of the people leave the plan in one month,so we should work more in that month.So that customer choose to continue in next month also\n",
    "<br>3.If in any patricular region the responses from the customer are less,we should popularize the product in that region.So that it becomes familiar to more no. of people.\n",
    "<br>4.We should give additional offers and discount to new customer,so that they tempted to try the product.\n",
    "<br>5.Feedback should be appreciated and should be acknowleged."
   ]
  },
  {
   "cell_type": "markdown",
   "id": "de3b362e",
   "metadata": {},
   "source": [
    "### Ques E). Provide at least 5 suggestions to increase repurchase"
   ]
  },
  {
   "cell_type": "markdown",
   "id": "4a5243cd",
   "metadata": {},
   "source": [
    "Ans- \n",
    "<br>1.We should look more after the asia region,so that people repurchase the plan more.\n",
    "<br>2.We should try to make improve in the plan which has more logins,so that customer repurchase the plan more.\n",
    "<br>3.We should enchanced the quality of mobile sessions and give interactive offers.So people tend to repurchase the plan more.\n",
    "<br>4.We should work more on enchaning and improving the content for people having plan with no. of users,so that customer repurchase the plan more.\n",
    "<br>5.After the Asia region,we should try to popularize and make more familiar in North America region.So that customer repurchase the plan more."
   ]
  }
 ],
 "metadata": {
  "kernelspec": {
   "display_name": "Python 3",
   "language": "python",
   "name": "python3"
  },
  "language_info": {
   "codemirror_mode": {
    "name": "ipython",
    "version": 3
   },
   "file_extension": ".py",
   "mimetype": "text/x-python",
   "name": "python",
   "nbconvert_exporter": "python",
   "pygments_lexer": "ipython3",
   "version": "3.8.8"
  }
 },
 "nbformat": 4,
 "nbformat_minor": 5
}
