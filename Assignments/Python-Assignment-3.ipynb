{
 "cells": [
  {
   "cell_type": "code",
   "execution_count": 2,
   "id": "3118724a",
   "metadata": {},
   "outputs": [
    {
     "name": "stdout",
     "output_type": "stream",
     "text": [
      "Enter a Number (Numerator): 21\n",
      "Enter a Number (denominator): 7\n",
      "21 is divisible by 7\n"
     ]
    }
   ],
   "source": [
    "1#Python Program to Find Numbers Divisible by Another Number\n",
    "\n",
    "a = int(input(\"Enter a Number (Numerator): \"))\n",
    "b = int(input(\"Enter a Number (denominator): \"))\n",
    "\n",
    "if a%b==0:\n",
    "    print(f\"{a} is divisible by {b}\")\n",
    "else:\n",
    "    print(f\"{a} is not divisible by {b}\")"
   ]
  },
  {
   "cell_type": "code",
   "execution_count": 4,
   "id": "7039692e",
   "metadata": {},
   "outputs": [
    {
     "name": "stdout",
     "output_type": "stream",
     "text": [
      "Enter the number to be converted to Binary:10\n",
      "Binary of 10 is = 0b1010\n"
     ]
    }
   ],
   "source": [
    "2#Python Program to Convert Decimal to Binary\n",
    "\n",
    "a = int(input(\"Enter the number to be converted to Binary:\"))\n",
    "print(f\"Binary of {a} is =\",bin(a))"
   ]
  },
  {
   "cell_type": "code",
   "execution_count": 5,
   "id": "35ba0bbd",
   "metadata": {},
   "outputs": [
    {
     "name": "stdout",
     "output_type": "stream",
     "text": [
      "Enter the number to be converted to Hexadecimal:10\n",
      "Hexadecimal of 10 is = 0xa\n"
     ]
    }
   ],
   "source": [
    "3#Python Program to Convert Decimal to Hexadecimal\n",
    "\n",
    "a = int(input(\"Enter the number to be converted to Hexadecimal:\"))\n",
    "print(f\"Hexadecimal of {a} is =\",hex(a))"
   ]
  },
  {
   "cell_type": "code",
   "execution_count": 7,
   "id": "03385f5c",
   "metadata": {},
   "outputs": [
    {
     "name": "stdout",
     "output_type": "stream",
     "text": [
      "Enter the character to find ASCII Value:a\n",
      "ASCII Value of a is = 97\n"
     ]
    }
   ],
   "source": [
    "4#Python Program to Find ASCII Value of Character\n",
    "a = input(\"Enter the character to find ASCII Value:\")\n",
    "print(f\"ASCII Value of {a} is =\",ord(a))"
   ]
  },
  {
   "cell_type": "code",
   "execution_count": 12,
   "id": "16853562",
   "metadata": {},
   "outputs": [
    {
     "name": "stdout",
     "output_type": "stream",
     "text": [
      "Enter a Number to find HCF:54\n",
      "Enter a Number to find HCF:24\n",
      "HCF of 54 and 24 is: 6\n"
     ]
    }
   ],
   "source": [
    "5#Python Program to Find HCF or GCD\n",
    "a = int(input(\"Enter a Number to find HCF:\"))\n",
    "b = int(input(\"Enter a Number to find HCF:\"))\n",
    "\n",
    "if a > b:\n",
    "    smaller = b\n",
    "else:\n",
    "    smaller = a\n",
    "for i in range(1, smaller+1):\n",
    "    if((a % i == 0) and (b % i == 0)):\n",
    "        res = i \n",
    "print(f\"HCF of {a} and {b} is:\",res)"
   ]
  },
  {
   "cell_type": "code",
   "execution_count": 20,
   "id": "7d9466d8",
   "metadata": {},
   "outputs": [
    {
     "name": "stdout",
     "output_type": "stream",
     "text": [
      "Enter a Number to find HCF:54\n",
      "Enter a Number to find HCF:24\n",
      "HCF of 54 and 24 is: 6\n"
     ]
    }
   ],
   "source": [
    "6# Write a python function to find HCf or GCD and return the value using euclidian Algorithm\n",
    "\n",
    "def hcf_(x, y):\n",
    "    while(y):\n",
    "        x, y = y, x % y\n",
    "    return x\n",
    "\n",
    "a = int(input(\"Enter a Number to find HCF:\"))\n",
    "b = int(input(\"Enter a Number to find HCF:\"))\n",
    "hcf = hcf_(a,b)\n",
    "print(f\"HCF of {a} and {b} is:\", hcf)"
   ]
  },
  {
   "cell_type": "code",
   "execution_count": 22,
   "id": "95ab7665",
   "metadata": {},
   "outputs": [
    {
     "name": "stdout",
     "output_type": "stream",
     "text": [
      "Enter a Number to find LCM:4\n",
      "Enter a Number to find LCM:2\n",
      "LCM of 4 and 2 is = 4\n"
     ]
    }
   ],
   "source": [
    "7#Python Program to Find LCM\n",
    "\n",
    "a = int(input(\"Enter a Number to find LCM:\"))\n",
    "b = int(input(\"Enter a Number to find LCM:\"))\n",
    "\n",
    "if a > b:\n",
    "    greater = a\n",
    "else:\n",
    "    greater = b\n",
    "while(True):\n",
    "    if((greater % a == 0) and (greater % b == 0)):\n",
    "        lcm = greater\n",
    "        break\n",
    "    greater += 1\n",
    "print(f\"LCM of {a} and {b} is =\",lcm)\n"
   ]
  },
  {
   "cell_type": "code",
   "execution_count": 23,
   "id": "ecb1d3d4",
   "metadata": {},
   "outputs": [
    {
     "name": "stdout",
     "output_type": "stream",
     "text": [
      "Enter a Number to find LCM:4\n",
      "Enter a Number to find LCM:2\n",
      "LCM of 4 and 2 is = 4\n"
     ]
    }
   ],
   "source": [
    "8#write a Python function to Find LCM and returb the value\n",
    "\n",
    "def lcm_(x,y):\n",
    "    if x > y:\n",
    "        greater = x\n",
    "    else:\n",
    "        greater = y\n",
    "    while(True):\n",
    "        if((greater % a == 0) and (greater % b == 0)):\n",
    "            lcm = greater\n",
    "            break\n",
    "        greater+= 1\n",
    "    return lcm\n",
    "\n",
    "a = int(input(\"Enter a Number to find LCM:\"))\n",
    "b = int(input(\"Enter a Number to find LCM:\"))\n",
    "res = lcm_(a,b)\n",
    "print(f\"LCM of {a} and {b} is =\",res)\n"
   ]
  },
  {
   "cell_type": "code",
   "execution_count": 27,
   "id": "f3a2cfe6",
   "metadata": {},
   "outputs": [
    {
     "name": "stdout",
     "output_type": "stream",
     "text": [
      "Enter a Number to find LCM:4\n",
      "Enter a Number to find LCM:2\n",
      "LCM of 4 and 2 is = 4\n"
     ]
    }
   ],
   "source": [
    "#Python Program to Compute LCM Using GCD\n",
    "\n",
    "def gcd_(x, y):\n",
    "    while(y):\n",
    "        x, y = y, x % y\n",
    "    return x\n",
    "\n",
    "def lcm_(x, y):\n",
    "    lcm = (x*y)//gcd_(x,y)\n",
    "    return lcm\n",
    "\n",
    "a = int(input(\"Enter a Number to find LCM:\"))\n",
    "b = int(input(\"Enter a Number to find LCM:\"))\n",
    "\n",
    "print(f\"LCM of {a} and {b} is =\",lcm_(a,b))"
   ]
  },
  {
   "cell_type": "code",
   "execution_count": null,
   "id": "a469ac38",
   "metadata": {},
   "outputs": [],
   "source": []
  }
 ],
 "metadata": {
  "kernelspec": {
   "display_name": "Python 3",
   "language": "python",
   "name": "python3"
  },
  "language_info": {
   "codemirror_mode": {
    "name": "ipython",
    "version": 3
   },
   "file_extension": ".py",
   "mimetype": "text/x-python",
   "name": "python",
   "nbconvert_exporter": "python",
   "pygments_lexer": "ipython3",
   "version": "3.8.8"
  }
 },
 "nbformat": 4,
 "nbformat_minor": 5
}
