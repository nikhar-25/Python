{
 "cells": [
  {
   "cell_type": "code",
   "execution_count": 4,
   "metadata": {
    "colab": {
     "base_uri": "https://localhost:8080/"
    },
    "executionInfo": {
     "elapsed": 2493,
     "status": "ok",
     "timestamp": 1623390746623,
     "user": {
      "displayName": "173, NIKHAR MAHENDRA SINGH",
      "photoUrl": "https://lh3.googleusercontent.com/a-/AOh14Giy_T4Ce4dvMJEJo72u-t_2C9R4CDZkXWKg-SCg-w=s64",
      "userId": "14315053031829282680"
     },
     "user_tz": -330
    },
    "id": "5DePPqsinEIe",
    "outputId": "0f7af047-13cf-430d-c462-097537d44fb9"
   },
   "outputs": [
    {
     "name": "stdout",
     "output_type": "stream",
     "text": [
      "Enter the Kilometer:5\n",
      "5 kilometer is equal to 3.107520198881293 miles.\n"
     ]
    }
   ],
   "source": [
    "#Python Program to Convert Kilometers to Miles\n",
    "\n",
    "a = int(input(\"Enter the Kilometer:\"))\n",
    "b = 1.609\n",
    "print(f\"{a} kilometer is equal to\",(a / b),\"miles.\")"
   ]
  },
  {
   "cell_type": "code",
   "execution_count": 4,
   "metadata": {
    "colab": {
     "base_uri": "https://localhost:8080/"
    },
    "executionInfo": {
     "elapsed": 3465,
     "status": "ok",
     "timestamp": 1623391148024,
     "user": {
      "displayName": "173, NIKHAR MAHENDRA SINGH",
      "photoUrl": "https://lh3.googleusercontent.com/a-/AOh14Giy_T4Ce4dvMJEJo72u-t_2C9R4CDZkXWKg-SCg-w=s64",
      "userId": "14315053031829282680"
     },
     "user_tz": -330
    },
    "id": "aytCrJzFoSd-",
    "outputId": "2a18e5d7-edf1-47cc-a269-248ebec5a05e"
   },
   "outputs": [
    {
     "name": "stdout",
     "output_type": "stream",
     "text": [
      "Enter the temperature in Celsius: 35\n",
      "Temperature in Celsius=35.0 degree \n",
      "Temperature in Fahrenheit=95.0 degree\n"
     ]
    }
   ],
   "source": [
    "#Python Program to Convert Celsius To Fahrenheit\n",
    "\n",
    "c = float(input(\"Enter the temperature in Celsius: \"))\n",
    "f = (c * 1.8) + 32\n",
    "print(f\"Temperature in Celsius={c} degree \\nTemperature in Fahrenheit={f} degree\")"
   ]
  },
  {
   "cell_type": "code",
   "execution_count": 5,
   "metadata": {
    "colab": {
     "base_uri": "https://localhost:8080/"
    },
    "executionInfo": {
     "elapsed": 6517,
     "status": "ok",
     "timestamp": 1623391399196,
     "user": {
      "displayName": "173, NIKHAR MAHENDRA SINGH",
      "photoUrl": "https://lh3.googleusercontent.com/a-/AOh14Giy_T4Ce4dvMJEJo72u-t_2C9R4CDZkXWKg-SCg-w=s64",
      "userId": "14315053031829282680"
     },
     "user_tz": -330
    },
    "id": "qBoawahupzkt",
    "outputId": "c124e926-db8c-46e4-b58d-aafad217a557"
   },
   "outputs": [
    {
     "name": "stdout",
     "output_type": "stream",
     "text": [
      "Enter the number:89\n",
      "Number is postive\n"
     ]
    }
   ],
   "source": [
    "#Python Program to Check if a Number is Positive, Negative or 0\n",
    "\n",
    "a = int(input(\"Enter the number:\"))\n",
    "print(\"Number is postive\") if a > 0 else print(\"Number is Negative\") if a < 0 else print(\"Number is zero\") #Short hand if else"
   ]
  },
  {
   "cell_type": "code",
   "execution_count": 6,
   "metadata": {
    "colab": {
     "base_uri": "https://localhost:8080/"
    },
    "executionInfo": {
     "elapsed": 3644,
     "status": "ok",
     "timestamp": 1623391473071,
     "user": {
      "displayName": "173, NIKHAR MAHENDRA SINGH",
      "photoUrl": "https://lh3.googleusercontent.com/a-/AOh14Giy_T4Ce4dvMJEJo72u-t_2C9R4CDZkXWKg-SCg-w=s64",
      "userId": "14315053031829282680"
     },
     "user_tz": -330
    },
    "id": "7BQUZrbUqwzJ",
    "outputId": "b47be27d-c22d-4305-913d-dd911a8173d3"
   },
   "outputs": [
    {
     "name": "stdout",
     "output_type": "stream",
     "text": [
      "Enter the number:44\n",
      "Even Number\n"
     ]
    }
   ],
   "source": [
    "#Python Program to Check if a Number is Odd or Even\n",
    "a = int(input(\"Enter the number:\"))\n",
    "print(\"Even Number\") if a%2==0 else print(\"Odd Number\") # Again used short hand if else "
   ]
  },
  {
   "cell_type": "code",
   "execution_count": 7,
   "metadata": {
    "colab": {
     "base_uri": "https://localhost:8080/"
    },
    "executionInfo": {
     "elapsed": 3139,
     "status": "ok",
     "timestamp": 1623391616293,
     "user": {
      "displayName": "173, NIKHAR MAHENDRA SINGH",
      "photoUrl": "https://lh3.googleusercontent.com/a-/AOh14Giy_T4Ce4dvMJEJo72u-t_2C9R4CDZkXWKg-SCg-w=s64",
      "userId": "14315053031829282680"
     },
     "user_tz": -330
    },
    "id": "9Rnaz1TlrNoA",
    "outputId": "29fda6a8-7058-4241-a588-5b3e3abe51ff"
   },
   "outputs": [
    {
     "name": "stdout",
     "output_type": "stream",
     "text": [
      "Enter a year: 2000\n",
      "2000 is a leap year\n"
     ]
    }
   ],
   "source": [
    "#Python Program to Check Leap Year\n",
    "\n",
    "y = int(input(\"Enter a year: \"))\n",
    "\n",
    "if (y % 4) == 0:\n",
    "   if (y % 100) == 0:\n",
    "       if (y % 400) == 0:\n",
    "           print(\"{} is a leap year\".format(y))\n",
    "       else:\n",
    "           print(\"{} is not a leap year\".format(y))\n",
    "   else:\n",
    "       print(\"{} is a leap year\".format(y))\n",
    "else:\n",
    "   print(\"{} is not a leap year\".format(y))"
   ]
  },
  {
   "cell_type": "code",
   "execution_count": 8,
   "metadata": {
    "colab": {
     "base_uri": "https://localhost:8080/"
    },
    "executionInfo": {
     "elapsed": 5743,
     "status": "ok",
     "timestamp": 1623391904925,
     "user": {
      "displayName": "173, NIKHAR MAHENDRA SINGH",
      "photoUrl": "https://lh3.googleusercontent.com/a-/AOh14Giy_T4Ce4dvMJEJo72u-t_2C9R4CDZkXWKg-SCg-w=s64",
      "userId": "14315053031829282680"
     },
     "user_tz": -330
    },
    "id": "vKtZNaJArpW2",
    "outputId": "e11b01f1-fe3f-43ea-d0f7-7d16cc4c85a7"
   },
   "outputs": [
    {
     "name": "stdout",
     "output_type": "stream",
     "text": [
      "Enter a 1st number: 45\n",
      "Enter a 2nd number: 99\n",
      "Enter a 3rd number: 32\n",
      "\n",
      "The Three Numbers are: 45 99 32 \n",
      "largest number is 99\n"
     ]
    }
   ],
   "source": [
    "#Python Program to Find the Largest Among Three Numbers\n",
    "\n",
    "a = int(input(\"Enter a 1st number: \"))\n",
    "b = int(input(\"Enter a 2nd number: \"))\n",
    "c = int(input(\"Enter a 3rd number: \"))\n",
    "print(\"\\nThe Three Numbers are: {0} {1} {2} \".format(a,b,c))\n",
    "if a>b and a>c:\n",
    "  print(f\"largest number is 8{a}\")\n",
    "elif b>a and b>c:\n",
    "  print(f\"largest number is {b}\")\n",
    "else:\n",
    "  print(f\"largest number is {c}\")"
   ]
  },
  {
   "cell_type": "code",
   "execution_count": 9,
   "metadata": {
    "colab": {
     "base_uri": "https://localhost:8080/"
    },
    "executionInfo": {
     "elapsed": 3186,
     "status": "ok",
     "timestamp": 1623392013386,
     "user": {
      "displayName": "173, NIKHAR MAHENDRA SINGH",
      "photoUrl": "https://lh3.googleusercontent.com/a-/AOh14Giy_T4Ce4dvMJEJo72u-t_2C9R4CDZkXWKg-SCg-w=s64",
      "userId": "14315053031829282680"
     },
     "user_tz": -330
    },
    "id": "eMBt3Rl8srrA",
    "outputId": "5d296f09-be0a-407b-a959-9a435e61a080"
   },
   "outputs": [
    {
     "name": "stdout",
     "output_type": "stream",
     "text": [
      "Enter a number: 11\n",
      "11 is a prime number\n"
     ]
    }
   ],
   "source": [
    "#Write a Python Program to check if a number is prime or not\n",
    "\n",
    "num = int(input(\"Enter a number: \"))  \n",
    "  \n",
    "if num > 1:  \n",
    "   for i in range(2,num):  \n",
    "       if (num % i) == 0:  \n",
    "           print(f\"{num} is not a prime number\")   \n",
    "           break  \n",
    "   else:  \n",
    "       print(f\"{num} is a prime number\")  \n",
    "else:  \n",
    "   print(f\"{num} is not a prime number\")  "
   ]
  },
  {
   "cell_type": "code",
   "execution_count": 10,
   "metadata": {
    "colab": {
     "base_uri": "https://localhost:8080/"
    },
    "executionInfo": {
     "elapsed": 4241,
     "status": "ok",
     "timestamp": 1623392221068,
     "user": {
      "displayName": "173, NIKHAR MAHENDRA SINGH",
      "photoUrl": "https://lh3.googleusercontent.com/a-/AOh14Giy_T4Ce4dvMJEJo72u-t_2C9R4CDZkXWKg-SCg-w=s64",
      "userId": "14315053031829282680"
     },
     "user_tz": -330
    },
    "id": "Z6Z9_tr9tG4E",
    "outputId": "f1835316-8cc5-4169-dd59-ea9311028911"
   },
   "outputs": [
    {
     "name": "stdout",
     "output_type": "stream",
     "text": [
      "Enter the lower range for interval: 1\n",
      "Enter the high range for interval: 10\n",
      "\n",
      "Prime numbers between 1 and 10 are:\n",
      "2\n",
      "3\n",
      "5\n",
      "7\n"
     ]
    }
   ],
   "source": [
    "#Python program to display all the prime numbers within an interval\n",
    "\n",
    "\n",
    "l = int(input(\"Enter the lower range for interval: \"))\n",
    "h = int(input(\"Enter the high range for interval: \"))\n",
    "\n",
    "print(\"\\nPrime numbers between\", l, \"and\", h, \"are:\")\n",
    "\n",
    "for num in range(l, h + 1):\n",
    "   if num > 1:\n",
    "       for i in range(2, num):\n",
    "           if (num % i) == 0:\n",
    "             break\n",
    "       else:\n",
    "           print(num)"
   ]
  },
  {
   "cell_type": "code",
   "execution_count": 11,
   "metadata": {
    "colab": {
     "base_uri": "https://localhost:8080/"
    },
    "executionInfo": {
     "elapsed": 1951,
     "status": "ok",
     "timestamp": 1623392389573,
     "user": {
      "displayName": "173, NIKHAR MAHENDRA SINGH",
      "photoUrl": "https://lh3.googleusercontent.com/a-/AOh14Giy_T4Ce4dvMJEJo72u-t_2C9R4CDZkXWKg-SCg-w=s64",
      "userId": "14315053031829282680"
     },
     "user_tz": -330
    },
    "id": "Cvx8izrBt52I",
    "outputId": "e25f74d2-e829-455f-f733-dc7e2cf21107"
   },
   "outputs": [
    {
     "name": "stdout",
     "output_type": "stream",
     "text": [
      "Enter the number: 5\n",
      "factorial of 5 is = 120\n"
     ]
    }
   ],
   "source": [
    "#Python program to find the factorial of a number.\n",
    "\n",
    "n = int(input(\"Enter the number: \"))\n",
    "fact = 1\n",
    "for i in range(1,n+1):\n",
    "  fact=fact*i\n",
    "print(f\"factorial of {n} is =\",fact)"
   ]
  },
  {
   "cell_type": "code",
   "execution_count": 12,
   "metadata": {
    "colab": {
     "base_uri": "https://localhost:8080/"
    },
    "executionInfo": {
     "elapsed": 4321,
     "status": "ok",
     "timestamp": 1623392541977,
     "user": {
      "displayName": "173, NIKHAR MAHENDRA SINGH",
      "photoUrl": "https://lh3.googleusercontent.com/a-/AOh14Giy_T4Ce4dvMJEJo72u-t_2C9R4CDZkXWKg-SCg-w=s64",
      "userId": "14315053031829282680"
     },
     "user_tz": -330
    },
    "id": "XsuZikY7ui_W",
    "outputId": "7638f1c1-ecfa-4a49-f5fb-8321d9e17db2"
   },
   "outputs": [
    {
     "name": "stdout",
     "output_type": "stream",
     "text": [
      "Enter the number: 5\n",
      "Table of 5 is below\n",
      "5 X 1 = 5\n",
      "5 X 2 = 10\n",
      "5 X 3 = 15\n",
      "5 X 4 = 20\n",
      "5 X 5 = 25\n",
      "5 X 6 = 30\n",
      "5 X 7 = 35\n",
      "5 X 8 = 40\n",
      "5 X 9 = 45\n",
      "5 X 10 = 50\n"
     ]
    }
   ],
   "source": [
    "#Python Program to Display the multiplication Table.\n",
    "n = int(input(\"Enter the number: \"))\n",
    "print(f\"Table of {n} is below\")\n",
    "for i in range(1,11):\n",
    "  print(f\"{n} X {i} =\",n*i)"
   ]
  },
  {
   "cell_type": "code",
   "execution_count": 13,
   "metadata": {
    "colab": {
     "base_uri": "https://localhost:8080/"
    },
    "executionInfo": {
     "elapsed": 1987,
     "status": "ok",
     "timestamp": 1623393231998,
     "user": {
      "displayName": "173, NIKHAR MAHENDRA SINGH",
      "photoUrl": "https://lh3.googleusercontent.com/a-/AOh14Giy_T4Ce4dvMJEJo72u-t_2C9R4CDZkXWKg-SCg-w=s64",
      "userId": "14315053031829282680"
     },
     "user_tz": -330
    },
    "id": "bL27mT6HvG1h",
    "outputId": "03a1271b-99cb-4e84-f3d3-aaae91f5d70f"
   },
   "outputs": [
    {
     "name": "stdout",
     "output_type": "stream",
     "text": [
      "Enter the number to print nth fibonacci sequence: 10\n",
      "Fibonacci sequence: 0 , 1, 1,2,3,5,8,13,21,34,"
     ]
    }
   ],
   "source": [
    "#Python Program to Print the Fibonacci sequence\n",
    "n = int(input(\"Enter the number to print nth fibonacci sequence: \"))\n",
    "n1 = 0\n",
    "n2 = 1\n",
    "count = 2\n",
    "if n < 0:\n",
    "  print(\"Incorrect Input\")\n",
    "elif n == 1:\n",
    "  print(\"Fibonacci sequence:\",n1)\n",
    "else:\n",
    "  print(\"Fibonacci sequence:\",n1,\",\",n2,end=', ')\n",
    "  while count<n:\n",
    "    nth = n1+n2\n",
    "    print(nth,end=',')\n",
    "    n1=n2\n",
    "    n2=nth\n",
    "    count+=1 \n",
    "   \n"
   ]
  },
  {
   "cell_type": "code",
   "execution_count": 6,
   "metadata": {
    "colab": {
     "base_uri": "https://localhost:8080/"
    },
    "executionInfo": {
     "elapsed": 6013,
     "status": "ok",
     "timestamp": 1623393487964,
     "user": {
      "displayName": "173, NIKHAR MAHENDRA SINGH",
      "photoUrl": "https://lh3.googleusercontent.com/a-/AOh14Giy_T4Ce4dvMJEJo72u-t_2C9R4CDZkXWKg-SCg-w=s64",
      "userId": "14315053031829282680"
     },
     "user_tz": -330
    },
    "id": "dq95BdTCxzx8",
    "outputId": "990b612e-8a7b-40b4-d788-7147c50bf6bb"
   },
   "outputs": [
    {
     "name": "stdout",
     "output_type": "stream",
     "text": [
      "Enter the number: 153\n",
      "153 is an armstrong number\n"
     ]
    }
   ],
   "source": [
    "#Python Program to Check Armstrong Number (for 3 digits)\n",
    "\n",
    "n = int(input(\"Enter the number: \"))\n",
    "sum = 0\n",
    "temp = n\n",
    "while temp > 0:\n",
    "  d = temp % 10\n",
    "  sum+= d ** 3\n",
    "  temp = temp // 10\n",
    "if n == sum:\n",
    "  print(f\"{n} is an armstrong number\")\n",
    "else:\n",
    "  print(f\"{n} is not an armstrong number\")"
   ]
  },
  {
   "cell_type": "code",
   "execution_count": null,
   "metadata": {},
   "outputs": [],
   "source": []
  }
 ],
 "metadata": {
  "colab": {
   "authorship_tag": "ABX9TyONMi+gXX0UHrlszckgS2ta",
   "name": "Python-Assignment_2.ipynb",
   "provenance": []
  },
  "kernelspec": {
   "display_name": "Python 3",
   "language": "python",
   "name": "python3"
  },
  "language_info": {
   "codemirror_mode": {
    "name": "ipython",
    "version": 3
   },
   "file_extension": ".py",
   "mimetype": "text/x-python",
   "name": "python",
   "nbconvert_exporter": "python",
   "pygments_lexer": "ipython3",
   "version": "3.8.5"
  }
 },
 "nbformat": 4,
 "nbformat_minor": 1
}
