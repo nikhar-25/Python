{
 "cells": [
  {
   "cell_type": "code",
   "execution_count": 2,
   "id": "2ff11598",
   "metadata": {},
   "outputs": [
    {
     "name": "stdout",
     "output_type": "stream",
     "text": [
      "[59, 68, 35, 5]\n",
      "[74, 81, 63, 14]\n",
      "[119, 129, 96, 23]\n"
     ]
    }
   ],
   "source": [
    "#Python Program to Multiply Two Matrices using Nested Loop\n",
    "\n",
    "X = [[1,7,3],\n",
    "    [4 ,5,6],\n",
    "    [7 ,8,9]]\n",
    "Y = [[5,4,1,2],\n",
    "    [6,7,1,0],\n",
    "    [4,5,9,1]]\n",
    "result = [[0,0,0,0],\n",
    "         [0,0,0,0],\n",
    "         [0,0,0,0]]\n",
    "\n",
    "for i in range(len(X)):\n",
    "    for j in range(len(Y[0])):\n",
    "        for k in range(len(Y)):\n",
    "            result[i][j] += X[i][k] * Y[k][j]\n",
    "\n",
    "for r in result:\n",
    "    print(r)"
   ]
  },
  {
   "cell_type": "code",
   "execution_count": 3,
   "id": "58d2282b",
   "metadata": {},
   "outputs": [
    {
     "name": "stdout",
     "output_type": "stream",
     "text": [
      "[59, 68, 35, 5]\n",
      "[74, 81, 63, 14]\n",
      "[119, 129, 96, 23]\n"
     ]
    }
   ],
   "source": [
    "#Python Program to Multiply Two Matrices using Nested List Comprehension\n",
    "X = [[1,7,3],\n",
    "    [4 ,5,6],\n",
    "    [7 ,8,9]]\n",
    "Y = [[5,4,1,2],\n",
    "    [6,7,1,0],\n",
    "    [4,5,9,1]]\n",
    "\n",
    "result = [[sum(a*b for a,b in zip(X_row,Y_col)) for Y_col in zip(*Y)] for X_row in X]\n",
    "\n",
    "for r in result:\n",
    "   print(r)"
   ]
  },
  {
   "cell_type": "code",
   "execution_count": 5,
   "id": "25bcd05b",
   "metadata": {},
   "outputs": [
    {
     "name": "stdout",
     "output_type": "stream",
     "text": [
      "Yes\n"
     ]
    }
   ],
   "source": [
    "#Python Program to Check Whether a String is Palindrome or Not\n",
    "\n",
    "def isPalindrome(s):\n",
    "    return s == s[::-1]\n",
    " \n",
    "s = \"malayalam\"\n",
    "ans = isPalindrome(s)\n",
    " \n",
    "if ans:\n",
    "    print(\"Yes\")\n",
    "else:\n",
    "    print(\"No\")"
   ]
  },
  {
   "cell_type": "code",
   "execution_count": 6,
   "id": "1bf296d5",
   "metadata": {},
   "outputs": [
    {
     "name": "stdout",
     "output_type": "stream",
     "text": [
      "Welcome to Lab\n"
     ]
    }
   ],
   "source": [
    "#Python Program to Remove Punctuations From a String\n",
    "\n",
    "def Punctuation(string):\n",
    "    punctuations = '''!()-[]{};:'\"\\,<>./?@#$%^&*_~'''\n",
    "    for x in string.lower():\n",
    "        if x in punctuations:\n",
    "            string = string.replace(x, \"\")\n",
    "    print(string)\n",
    "    \n",
    "string = \"Welcome???@@##$ to#$% Lab%$\"\n",
    "Punctuation(string)"
   ]
  },
  {
   "cell_type": "code",
   "execution_count": 8,
   "id": "229c6f0c",
   "metadata": {},
   "outputs": [
    {
     "name": "stdout",
     "output_type": "stream",
     "text": [
      "Enter a string: world is a beautiful\n",
      "The sorted words are:\n",
      "a\n",
      "beautiful\n",
      "is\n",
      "world\n"
     ]
    }
   ],
   "source": [
    "#Python Program to Sort Words in Alphabetic Order\n",
    "\n",
    "my_str = input(\"Enter a string: \")\n",
    "words = [word.lower() for word in my_str.split()]\n",
    "words.sort()\n",
    "\n",
    "print(\"The sorted words are:\")\n",
    "for word in words:\n",
    "   print(word)"
   ]
  },
  {
   "cell_type": "code",
   "execution_count": 10,
   "id": "f1658119",
   "metadata": {},
   "outputs": [
    {
     "name": "stdout",
     "output_type": "stream",
     "text": [
      "Union of E and N is {0, 1, 2, 3, 4, 5, 6, 8}\n",
      "\n",
      "\n",
      "Intersection of E and N is {2, 4}\n",
      "\n",
      "\n",
      "Difference of E and N is {0, 8, 6}\n",
      "\n",
      "\n",
      "Symmetric difference of E and N is {0, 1, 3, 5, 6, 8}\n"
     ]
    }
   ],
   "source": [
    "#Python Program to Illustrate Different Set Operations\n",
    "\n",
    "E = {0, 2, 4, 6, 8};\n",
    "N = {1, 2, 3, 4, 5};\n",
    "\n",
    "\n",
    "print(\"Union of E and N is\",E | N) # set union\n",
    "print(\"\\n\")\n",
    "print(\"Intersection of E and N is\",E & N) # set intersection\n",
    "print(\"\\n\")\n",
    "print(\"Difference of E and N is\",E - N) # set difference\n",
    "print(\"\\n\")\n",
    "print(\"Symmetric difference of E and N is\",E ^ N) # set symmetric difference"
   ]
  },
  {
   "cell_type": "code",
   "execution_count": 12,
   "id": "8bf96022",
   "metadata": {},
   "outputs": [
    {
     "name": "stdout",
     "output_type": "stream",
     "text": [
      "Enter string:A quick brown fox jump over the lazy dog\n",
      "Number of vowels are:\n",
      "11\n"
     ]
    }
   ],
   "source": [
    "#Python Program to Count the Number of Each Vowel\n",
    "\n",
    "string=input(\"Enter string:\")\n",
    "vowels=0\n",
    "for i in string:\n",
    "      if(i=='a' or i=='e' or i=='i' or i=='o' or i=='u' or i=='A' or i=='E' or i=='I' or i=='O' or i=='U'):\n",
    "            vowels=vowels+1\n",
    "print(\"Number of vowels are:\")\n",
    "print(vowels)"
   ]
  },
  {
   "cell_type": "code",
   "execution_count": 14,
   "id": "a56e079f",
   "metadata": {},
   "outputs": [
    {
     "name": "stdout",
     "output_type": "stream",
     "text": [
      "3\n"
     ]
    }
   ],
   "source": [
    "#Python Program Given a string, find the length of the longest substring without repeating characters\n",
    "\n",
    "def lengthOfLongestSubstring(s):\n",
    "    i =0\n",
    "    j = 0\n",
    "    d={}\n",
    "    ans = 0\n",
    "    while j < len(s):\n",
    "        if s[j] not in d or i>d[s[j]]:\n",
    "            ans = max(ans,(j-i+1))\n",
    "            d[s[j]] = j\n",
    "        else:\n",
    "            i = d[s[j]]+1\n",
    "            ans = max(ans,(j-i+1))\n",
    "            j-=1\n",
    "        j+=1\n",
    "    return ans\n",
    "x = lengthOfLongestSubstring(\"ABCABCBB\")\n",
    "print(x)"
   ]
  },
  {
   "cell_type": "code",
   "execution_count": 16,
   "id": "07514ef6",
   "metadata": {},
   "outputs": [
    {
     "name": "stdout",
     "output_type": "stream",
     "text": [
      "Input_list:  [2, 8, 12, 15]\n",
      "Target:  20\n",
      "[1, 2]\n"
     ]
    }
   ],
   "source": [
    "#Python Program Given an array of integers, return indices of the two numbers such that they add up to a specific target.\n",
    "\n",
    "def twoSum(nums, target):\n",
    "    \"\"\"\n",
    "    :type nums: List[int]\n",
    "    :type target: int\n",
    "    :rtype: List[int]\n",
    "    \"\"\"\n",
    "    required = {}\n",
    "    for i in range(len(nums)):\n",
    "        if target - nums[i] in required:\n",
    "            return [required[target - nums[i]],i]\n",
    "        else:\n",
    "            required[nums[i]]=i\n",
    "input_list = [2,8,12,15]\n",
    "x = twoSum(input_list, 20)\n",
    "print(\"Input_list: \",input_list)\n",
    "print(\"Target: \",20)\n",
    "print(x)"
   ]
  },
  {
   "cell_type": "code",
   "execution_count": null,
   "id": "e6e95c93",
   "metadata": {},
   "outputs": [],
   "source": []
  }
 ],
 "metadata": {
  "kernelspec": {
   "display_name": "Python 3",
   "language": "python",
   "name": "python3"
  },
  "language_info": {
   "codemirror_mode": {
    "name": "ipython",
    "version": 3
   },
   "file_extension": ".py",
   "mimetype": "text/x-python",
   "name": "python",
   "nbconvert_exporter": "python",
   "pygments_lexer": "ipython3",
   "version": "3.8.8"
  }
 },
 "nbformat": 4,
 "nbformat_minor": 5
}
