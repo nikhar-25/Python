{
 "cells": [
  {
   "cell_type": "code",
   "execution_count": 2,
   "id": "26bf4563",
   "metadata": {},
   "outputs": [
    {
     "name": "stdout",
     "output_type": "stream",
     "text": [
      "Enter a Number (Numerator): 21\n",
      "Enter a Number (denominator): 7\n",
      "21 is divisible by 7\n"
     ]
    }
   ],
   "source": [
    "1#Python Program to Find Numbers Divisible by Another Number\n",
    "\n",
    "a = int(input(\"Enter a Number (Numerator): \"))\n",
    "b = int(input(\"Enter a Number (denominator): \"))\n",
    "\n",
    "if a%b==0:\n",
    "    print(f\"{a} is divisible by {b}\")\n",
    "else:\n",
    "    print(f\"{a} is not divisible by {b}\")"
   ]
  },
  {
   "cell_type": "code",
   "execution_count": 4,
   "id": "b51d5730",
   "metadata": {},
   "outputs": [
    {
     "name": "stdout",
     "output_type": "stream",
     "text": [
      "Enter the number to be converted to Binary:10\n",
      "Binary of 10 is = 0b1010\n"
     ]
    }
   ],
   "source": [
    "2#Python Program to Convert Decimal to Binary\n",
    "\n",
    "a = int(input(\"Enter the number to be converted to Binary:\"))\n",
    "print(f\"Binary of {a} is =\",bin(a))"
   ]
  },
  {
   "cell_type": "code",
   "execution_count": 5,
   "id": "e2d708df",
   "metadata": {},
   "outputs": [
    {
     "name": "stdout",
     "output_type": "stream",
     "text": [
      "Enter the number to be converted to Hexadecimal:10\n",
      "Hexadecimal of 10 is = 0xa\n"
     ]
    }
   ],
   "source": [
    "3#Python Program to Convert Decimal to Hexadecimal\n",
    "\n",
    "a = int(input(\"Enter the number to be converted to Hexadecimal:\"))\n",
    "print(f\"Hexadecimal of {a} is =\",hex(a))"
   ]
  },
  {
   "cell_type": "code",
   "execution_count": 7,
   "id": "4889963e",
   "metadata": {},
   "outputs": [
    {
     "name": "stdout",
     "output_type": "stream",
     "text": [
      "Enter the character to find ASCII Value:a\n",
      "ASCII Value of a is = 97\n"
     ]
    }
   ],
   "source": [
    "4#Python Program to Find ASCII Value of Character\n",
    "a = input(\"Enter the character to find ASCII Value:\")\n",
    "print(f\"ASCII Value of {a} is =\",ord(a))"
   ]
  },
  {
   "cell_type": "code",
   "execution_count": 12,
   "id": "ee1cd7db",
   "metadata": {},
   "outputs": [
    {
     "name": "stdout",
     "output_type": "stream",
     "text": [
      "Enter a Number to find HCF:54\n",
      "Enter a Number to find HCF:24\n",
      "HCF of 54 and 24 is: 6\n"
     ]
    }
   ],
   "source": [
    "5#Python Program to Find HCF or GCD\n",
    "a = int(input(\"Enter a Number to find HCF:\"))\n",
    "b = int(input(\"Enter a Number to find HCF:\"))\n",
    "\n",
    "if a > b:\n",
    "    smaller = b\n",
    "else:\n",
    "    smaller = a\n",
    "for i in range(1, smaller+1):\n",
    "    if((a % i == 0) and (b % i == 0)):\n",
    "        res = i \n",
    "print(f\"HCF of {a} and {b} is:\",res)"
   ]
  },
  {
   "cell_type": "code",
   "execution_count": 20,
   "id": "8d5e666e",
   "metadata": {},
   "outputs": [
    {
     "name": "stdout",
     "output_type": "stream",
     "text": [
      "Enter a Number to find HCF:54\n",
      "Enter a Number to find HCF:24\n",
      "HCF of 54 and 24 is: 6\n"
     ]
    }
   ],
   "source": [
    "6# Write a python function to find HCf or GCD and return the value using euclidian Algorithm\n",
    "\n",
    "def hcf_(x, y):\n",
    "    while(y):\n",
    "        x, y = y, x % y\n",
    "    return x\n",
    "\n",
    "a = int(input(\"Enter a Number to find HCF:\"))\n",
    "b = int(input(\"Enter a Number to find HCF:\"))\n",
    "hcf = hcf_(a,b)\n",
    "print(f\"HCF of {a} and {b} is:\", hcf)"
   ]
  },
  {
   "cell_type": "code",
   "execution_count": 22,
   "id": "a46b7ef0",
   "metadata": {},
   "outputs": [
    {
     "name": "stdout",
     "output_type": "stream",
     "text": [
      "Enter a Number to find LCM:4\n",
      "Enter a Number to find LCM:2\n",
      "LCM of 4 and 2 is = 4\n"
     ]
    }
   ],
   "source": [
    "7#Python Program to Find LCM\n",
    "\n",
    "a = int(input(\"Enter a Number to find LCM:\"))\n",
    "b = int(input(\"Enter a Number to find LCM:\"))\n",
    "\n",
    "if a > b:\n",
    "    greater = a\n",
    "else:\n",
    "    greater = b\n",
    "while(True):\n",
    "    if((greater % a == 0) and (greater % b == 0)):\n",
    "        lcm = greater\n",
    "        break\n",
    "    greater += 1\n",
    "print(f\"LCM of {a} and {b} is =\",lcm)\n"
   ]
  },
  {
   "cell_type": "code",
   "execution_count": 23,
   "id": "c792d6ca",
   "metadata": {},
   "outputs": [
    {
     "name": "stdout",
     "output_type": "stream",
     "text": [
      "Enter a Number to find LCM:4\n",
      "Enter a Number to find LCM:2\n",
      "LCM of 4 and 2 is = 4\n"
     ]
    }
   ],
   "source": [
    "8#write a Python function to Find LCM and returb the value\n",
    "\n",
    "def lcm_(x,y):\n",
    "    if x > y:\n",
    "        greater = x\n",
    "    else:\n",
    "        greater = y\n",
    "    while(True):\n",
    "        if((greater % a == 0) and (greater % b == 0)):\n",
    "            lcm = greater\n",
    "            break\n",
    "        greater+= 1\n",
    "    return lcm\n",
    "\n",
    "a = int(input(\"Enter a Number to find LCM:\"))\n",
    "b = int(input(\"Enter a Number to find LCM:\"))\n",
    "res = lcm_(a,b)\n",
    "print(f\"LCM of {a} and {b} is =\",res)\n"
   ]
  },
  {
   "cell_type": "code",
   "execution_count": 27,
   "id": "abf5c4a2",
   "metadata": {},
   "outputs": [
    {
     "name": "stdout",
     "output_type": "stream",
     "text": [
      "Enter a Number to find LCM:4\n",
      "Enter a Number to find LCM:2\n",
      "LCM of 4 and 2 is = 4\n"
     ]
    }
   ],
   "source": [
    "9#Python Program to Compute LCM Using GCD\n",
    "\n",
    "def gcd_(x, y):\n",
    "    while(y):\n",
    "        x, y = y, x % y\n",
    "    return x\n",
    "\n",
    "def lcm_(x, y):\n",
    "    lcm = (x*y)//gcd_(x,y)\n",
    "    return lcm\n",
    "\n",
    "a = int(input(\"Enter a Number to find LCM:\"))\n",
    "b = int(input(\"Enter a Number to find LCM:\"))\n",
    "\n",
    "print(f\"LCM of {a} and {b} is =\",lcm_(a,b))"
   ]
  },
  {
   "cell_type": "code",
   "execution_count": 28,
   "id": "5077495a",
   "metadata": {},
   "outputs": [
    {
     "name": "stdout",
     "output_type": "stream",
     "text": [
      "Enter the number to find factor:120\n",
      "The factors of 120 are:\n",
      "1\n",
      "2\n",
      "3\n",
      "4\n",
      "5\n",
      "6\n",
      "8\n",
      "10\n",
      "12\n",
      "15\n",
      "20\n",
      "24\n",
      "30\n",
      "40\n",
      "60\n",
      "120\n"
     ]
    }
   ],
   "source": [
    "10#Python funcction to Find the Factors of a Number\n",
    "def print_factors(x):\n",
    "    print(\"The factors of\",x,\"are:\")\n",
    "    for i in range(1, x + 1):\n",
    "        if x % i == 0:\n",
    "            print(i)\n",
    "\n",
    "num = int(input(\"Enter the number to find factor:\"))\n",
    "print_factors(num)"
   ]
  },
  {
   "cell_type": "code",
   "execution_count": 31,
   "id": "94aa2d2c",
   "metadata": {},
   "outputs": [
    {
     "name": "stdout",
     "output_type": "stream",
     "text": [
      "Welcome to Simple Calculator\n",
      "Please select operation -\n",
      "1. Add\n",
      "2. Subtract\n",
      "3. Multiply\n",
      "4. Divide\n",
      "\n",
      "Select operations form 1, 2, 3, 4 :8\n",
      "Enter first number: 12\n",
      "Enter second number: 55\n",
      "Invalid input\n"
     ]
    }
   ],
   "source": [
    "11#Python Program to Make a Simple Calculator\n",
    "\n",
    "def add(num1, num2):\n",
    "    return num1 + num2\n",
    "\n",
    "def subtract(num1, num2):\n",
    "    return num1 - num2\n",
    "  \n",
    "def multiply(num1, num2):\n",
    "    return num1 * num2\n",
    "  \n",
    "def divide(num1, num2):\n",
    "    return num1 / num2\n",
    "  \n",
    "print(\"Welcome to Simple Calculator\\nPlease select operation -\\n\" \n",
    "        \"1. Add\\n\" \n",
    "        \"2. Subtract\\n\" \n",
    "        \"3. Multiply\\n\" \n",
    "        \"4. Divide\\n\")\n",
    "   \n",
    "select = int(input(\"Select operations form 1, 2, 3, 4 :\"))\n",
    "  \n",
    "number_1 = int(input(\"Enter first number: \"))\n",
    "number_2 = int(input(\"Enter second number: \"))\n",
    "  \n",
    "if select == 1:\n",
    "    print(number_1, \"+\", number_2, \"=\",\n",
    "                    add(number_1, number_2))\n",
    "    \n",
    "elif select == 2:\n",
    "    print(number_1, \"-\", number_2, \"=\",\n",
    "                    subtract(number_1, number_2))\n",
    "    \n",
    "elif select == 3:\n",
    "    print(number_1, \"*\", number_2, \"=\",\n",
    "                    multiply(number_1, number_2))\n",
    "    \n",
    "elif select == 4:\n",
    "    print(number_1, \"/\", number_2, \"=\",\n",
    "                    divide(number_1, number_2))\n",
    "else:\n",
    "    print(\"Invalid input\")\n"
   ]
  },
  {
   "cell_type": "code",
   "execution_count": 37,
   "id": "f80d5a0a",
   "metadata": {},
   "outputs": [
    {
     "name": "stdout",
     "output_type": "stream",
     "text": [
      "Enter the number of terms:5\n",
      "Fibonacci sequence:\n",
      "0 1 1 2 3 "
     ]
    }
   ],
   "source": [
    "12#Python Program to Display Fibonacci Sequence Using Recursion\n",
    "def recur_fibo(n):\n",
    "    if n <= 1:\n",
    "        return n\n",
    "    else:\n",
    "        return(recur_fibo(n-1) + recur_fibo(n-2))\n",
    "\n",
    "nterms = int(input(\"Enter the number of terms:\"))\n",
    "if nterms <= 0:\n",
    "    print(\"Plese enter a positive integer\")\n",
    "else:\n",
    "    print(\"Fibonacci sequence:\")\n",
    "    for i in range(nterms):\n",
    "        print(recur_fibo(i),end = ' ')"
   ]
  },
  {
   "cell_type": "code",
   "execution_count": 38,
   "id": "0ceb1018",
   "metadata": {},
   "outputs": [
    {
     "name": "stdout",
     "output_type": "stream",
     "text": [
      "Enter the number of terms:5\n",
      "Sum of Natural number: 15\n"
     ]
    }
   ],
   "source": [
    "13#Python Program to Find Sum of Natural Numbers Using Recursion\n",
    "\n",
    "def sum_natural(n):\n",
    "    sum = 0\n",
    "    for i in range(1,n+1):\n",
    "        sum+=i\n",
    "    return sum\n",
    "nterms = int(input(\"Enter the number of terms:\"))\n",
    "if nterms <= 0:\n",
    "    print(\"Plese enter a positive integer\")\n",
    "else:\n",
    "    print(\"Sum of Natural number:\",sum_natural(nterms))"
   ]
  },
  {
   "cell_type": "code",
   "execution_count": 42,
   "id": "6dd0a461",
   "metadata": {},
   "outputs": [
    {
     "name": "stdout",
     "output_type": "stream",
     "text": [
      "Enter a number: -7\n",
      "Sorry, factorial does not exist for negative numbers\n"
     ]
    }
   ],
   "source": [
    "14#Python Program to Find Factorial of Number Using Recursion\n",
    "\n",
    "def fact(n):\n",
    "    if n == 1:\n",
    "        return n\n",
    "    else:\n",
    "        return n*fact(n-1)\n",
    "\n",
    "num = int(input(\"Enter a number: \"))\n",
    "if num < 0:\n",
    "    print(\"Sorry, factorial does not exist for negative numbers\")  \n",
    "elif num == 0:\n",
    "    print(\"The factorial of 0 is 1\")  \n",
    "else:\n",
    "    print(\"The factorial of\",num,\"is\",fact(num))  \n",
    "    "
   ]
  },
  {
   "cell_type": "code",
   "execution_count": 43,
   "id": "37b9c853",
   "metadata": {},
   "outputs": [
    {
     "name": "stdout",
     "output_type": "stream",
     "text": [
      "[10, 10, 10]\n",
      "[10, 10, 10]\n",
      "[10, 10, 10]\n"
     ]
    }
   ],
   "source": [
    "15#Python Program to Add Two Matrices\n",
    "\n",
    "X = [[1,2,3],\n",
    "    [4 ,5,6],\n",
    "    [7 ,8,9]]\n",
    " \n",
    "Y = [[9,8,7],\n",
    "    [6,5,4],\n",
    "    [3,2,1]]\n",
    "\n",
    "result = [[0,0,0],\n",
    "        [0,0,0],\n",
    "        [0,0,0]]\n",
    "\n",
    "for i in range(len(X)):  \n",
    "    for j in range(len(X[0])):\n",
    "        result[i][j] = X[i][j] + Y[i][j]\n",
    "        \n",
    "for r in result:\n",
    "    print(r)"
   ]
  },
  {
   "cell_type": "code",
   "execution_count": null,
   "id": "9bc85e05",
   "metadata": {},
   "outputs": [],
   "source": []
  }
 ],
 "metadata": {
  "kernelspec": {
   "display_name": "Python 3",
   "language": "python",
   "name": "python3"
  },
  "language_info": {
   "codemirror_mode": {
    "name": "ipython",
    "version": 3
   },
   "file_extension": ".py",
   "mimetype": "text/x-python",
   "name": "python",
   "nbconvert_exporter": "python",
   "pygments_lexer": "ipython3",
   "version": "3.8.8"
  }
 },
 "nbformat": 4,
 "nbformat_minor": 5
}
