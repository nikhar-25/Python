{
 "cells": [
  {
   "cell_type": "code",
   "execution_count": 1,
   "metadata": {},
   "outputs": [
    {
     "name": "stdout",
     "output_type": "stream",
     "text": [
      "Enter the number: 5\n",
      "The table of 5 is:\n",
      "5 x 1= 5\n",
      "5 x 2= 10\n",
      "5 x 3= 15\n",
      "5 x 4= 20\n",
      "5 x 5= 25\n",
      "5 x 6= 30\n",
      "5 x 7= 35\n",
      "5 x 8= 40\n",
      "5 x 9= 45\n",
      "5 x 10= 50\n"
     ]
    }
   ],
   "source": [
    "# WAP to print table of n, where n is entered by the user\n",
    "\n",
    "n = int(input(\"Enter the number: \"))\n",
    "print(\"The table of {} is:\".format(n))\n",
    "for i in range(1,11):\n",
    "    print(\"{} x {}=\".format(n,i),i*n)"
   ]
  },
  {
   "cell_type": "code",
   "execution_count": 2,
   "metadata": {},
   "outputs": [
    {
     "name": "stdout",
     "output_type": "stream",
     "text": [
      "Enter the number: 5\n",
      "Sum of 5 natural numbers is= 15\n"
     ]
    }
   ],
   "source": [
    "# WAP to print sum of n natural numbers, where n is entered by the user\n",
    "\n",
    "n = int(input(\"Enter the number: \"))\n",
    "sum = 0\n",
    "for i in range(1,n+1):\n",
    "    sum+=i\n",
    "print(\"Sum of {} natural numbers is=\".format(n),sum)"
   ]
  },
  {
   "cell_type": "code",
   "execution_count": 3,
   "metadata": {},
   "outputs": [
    {
     "name": "stdout",
     "output_type": "stream",
     "text": [
      "Enter the number: 5\n",
      "Factorial of 5 is = 120\n"
     ]
    }
   ],
   "source": [
    "# WAP to print the factorial of the given number, where number is entered by the user.\n",
    "\n",
    "n = int(input(\"Enter the number: \"))\n",
    "fact=1\n",
    "for i in range(1,n+1):\n",
    "    fact=fact*i\n",
    "print(\"Factorial of {} is =\".format(n),fact)"
   ]
  },
  {
   "cell_type": "code",
   "execution_count": 11,
   "metadata": {},
   "outputs": [
    {
     "name": "stdout",
     "output_type": "stream",
     "text": [
      "Enter the values of sales in Month:1\n",
      "Enter the values of sales in Month:23\n",
      "Enter the values of sales in Month:3434\n",
      "Enter the values of sales in Month:4352\n",
      "Enter the values of sales in Month:25\n",
      "\n",
      "Sales of the Month: [1, 23, 3434, 4352, 25]\n",
      "Total sales in that Month:₹7835\n",
      "Average sales in that Month:₹261.1666666666667\n"
     ]
    }
   ],
   "source": [
    "# WAP to input sales of the month and calculate the average sales of that month\n",
    "\n",
    "sal= []\n",
    "sum = 0\n",
    "for i in range(0,5):\n",
    "    n = int(input(\"Enter the values of sales in Month:\"))\n",
    "    sal.append(n) \n",
    "for i in range(0,len(sal)):\n",
    "    sum+=sal[i]\n",
    "average=sum/30\n",
    "print(\"\\nSales of the Month:\",sal)\n",
    "print(f\"Total sales in that Month:₹{sum}\")\n",
    "print(f\"Average sales in that Month:₹{average}\")"
   ]
  },
  {
   "cell_type": "code",
   "execution_count": 15,
   "metadata": {},
   "outputs": [
    {
     "name": "stdout",
     "output_type": "stream",
     "text": [
      "Enter the number to check it is prime or not:11\n",
      "11 is Prime\n"
     ]
    }
   ],
   "source": [
    "# WAP to check if input number is prime or not\n",
    "\n",
    "num = int(input(\"Enter the number to check it is prime or not:\"))\n",
    "if num >1:\n",
    "    for x in range(2, int(num/2)+1):\n",
    "        if(num % x) == 0:\n",
    "            print(f\"{num} is not Prime\")\n",
    "            break\n",
    "    else:\n",
    "        print(f\"{num} is Prime\")\n",
    "else:\n",
    "    print(f\"{num} is not Prime\")\n",
    "        "
   ]
  },
  {
   "cell_type": "code",
   "execution_count": null,
   "metadata": {},
   "outputs": [],
   "source": []
  }
 ],
 "metadata": {
  "kernelspec": {
   "display_name": "Python 3",
   "language": "python",
   "name": "python3"
  },
  "language_info": {
   "codemirror_mode": {
    "name": "ipython",
    "version": 3
   },
   "file_extension": ".py",
   "mimetype": "text/x-python",
   "name": "python",
   "nbconvert_exporter": "python",
   "pygments_lexer": "ipython3",
   "version": "3.8.5"
  }
 },
 "nbformat": 4,
 "nbformat_minor": 4
}
