{
 "cells": [
  {
   "cell_type": "code",
   "execution_count": 1,
   "metadata": {},
   "outputs": [
    {
     "name": "stdout",
     "output_type": "stream",
     "text": [
      "Enter the number: 5\n",
      "The table of 5 is:\n",
      "5 x 1= 5\n",
      "5 x 2= 10\n",
      "5 x 3= 15\n",
      "5 x 4= 20\n",
      "5 x 5= 25\n",
      "5 x 6= 30\n",
      "5 x 7= 35\n",
      "5 x 8= 40\n",
      "5 x 9= 45\n",
      "5 x 10= 50\n"
     ]
    }
   ],
   "source": [
    "# WAP to print table of n, where n is entered by the user\n",
    "\n",
    "n = int(input(\"Enter the number: \"))\n",
    "print(\"The table of {} is:\".format(n))\n",
    "for i in range(1,11):\n",
    "    print(\"{} x {}=\".format(n,i),i*n)"
   ]
  },
  {
   "cell_type": "code",
   "execution_count": 2,
   "metadata": {
    "scrolled": true
   },
   "outputs": [
    {
     "name": "stdout",
     "output_type": "stream",
     "text": [
      "Enter the number: 5\n",
      "Sum of 5 natural numbers is= 15\n"
     ]
    }
   ],
   "source": [
    "# WAP to print sum of n natural numbers, where n is entered by the user\n",
    "\n",
    "n = int(input(\"Enter the number: \"))\n",
    "sum = 0\n",
    "for i in range(1,n+1):\n",
    "    sum+=i\n",
    "print(\"Sum of {} natural numbers is=\".format(n),sum)"
   ]
  },
  {
   "cell_type": "markdown",
   "metadata": {},
   "source": [
    "\n",
    "\n",
    "n = int(input(\"Enter the number: \"))\n",
    "fact=1\n",
    "for i in range(1,n+1):\n",
    "    fact=fact*i\n",
    "print(\"Factorial of {} is =\".format(n),fact)"
   ]
  },
  {
   "cell_type": "markdown",
   "metadata": {},
   "source": [
    "sal= []\n",
    "for i in range(0,12):\n",
    "    n = int(input(\"Enter the values of sales:\"))\n",
    "    sal.append(n)\n",
    "print(sal)\n",
    "sum = 0 \n",
    "for i in sal:\n",
    "    sum+=sal[i]\n",
    "print(sum)\n",
    "\n"
   ]
  },
  {
   "cell_type": "code",
   "execution_count": null,
   "metadata": {},
   "outputs": [],
   "source": []
  }
 ],
 "metadata": {
  "kernelspec": {
   "display_name": "Python 3",
   "language": "python",
   "name": "python3"
  },
  "language_info": {
   "codemirror_mode": {
    "name": "ipython",
    "version": 3
   },
   "file_extension": ".py",
   "mimetype": "text/x-python",
   "name": "python",
   "nbconvert_exporter": "python",
   "pygments_lexer": "ipython3",
   "version": "3.8.5"
  }
 },
 "nbformat": 4,
 "nbformat_minor": 4
}
