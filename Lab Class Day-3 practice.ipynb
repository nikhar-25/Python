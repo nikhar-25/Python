{
 "cells": [
  {
   "cell_type": "markdown",
   "id": "b75ad74a",
   "metadata": {},
   "source": [
    "# DICTIONARY"
   ]
  },
  {
   "cell_type": "code",
   "execution_count": 1,
   "id": "9c2c61ab",
   "metadata": {},
   "outputs": [
    {
     "name": "stdout",
     "output_type": "stream",
     "text": [
      "{'Nikhar': '1', 'apple': '2', 'Banana': '3', 'orange': '4', 'Tom': '5', 'Tim': '6'}\n"
     ]
    }
   ],
   "source": [
    "a = {'Nikhar': \"1\",\"apple\": \"2\"}\n",
    "b = {'Banana': \"3\",\"orange\": \"4\"}\n",
    "c = {'Tom': \"5\",\"Tim\": \"6\"}\n",
    "b.update(c)\n",
    "a.update(b)\n",
    "print(a)"
   ]
  },
  {
   "cell_type": "code",
   "execution_count": 4,
   "id": "f956b985",
   "metadata": {},
   "outputs": [
    {
     "name": "stdout",
     "output_type": "stream",
     "text": [
      "Name:Nikhar \n",
      "Address:Luxaria \n",
      "Street:road 5 \n",
      "State:Gujarat\n",
      "\n"
     ]
    }
   ],
   "source": [
    "#Qno2-Create a dictionary of address using \"name\", \"address\", \"street\", \"state\" and print all the values using string formater\n",
    "\n",
    "dict1 = {\"Name\": \"Nikhar\", \"Address\": \"Luxaria\",\"Street\": \"road 5\",\"State\": \"Gujarat\",}\n",
    "\n",
    "print(\"Name:{} \\nAddress:{} \\nStreet:{} \\nState:{}\\n\".format(dict1[\"Name\"], dict1[\"Address\"], dict1[\"Street\"], dict1[\"State\"]))"
   ]
  },
  {
   "cell_type": "code",
   "execution_count": 6,
   "id": "28a88f6a",
   "metadata": {},
   "outputs": [
    {
     "name": "stdout",
     "output_type": "stream",
     "text": [
      "1200\n"
     ]
    }
   ],
   "source": [
    "#Qno3- Write a program to multiply all elements of dictionary \n",
    "#Input:- FruitDict = {'Apple': 10, 'banana': 5,'orange':4,'Guava':6} \n",
    "#Output:- 1200\n",
    "\n",
    "FruitDict = {'Apple': 10, 'banana': 5,'orange':4,'Guava':6}\n",
    "res=1\n",
    "for i in FruitDict:\n",
    "    res*=FruitDict[i]\n",
    "print(res)"
   ]
  },
  {
   "cell_type": "code",
   "execution_count": 3,
   "id": "35df1313",
   "metadata": {},
   "outputs": [
    {
     "name": "stdout",
     "output_type": "stream",
     "text": [
      "Enter 2 key value pairs\n",
      "enter key name:hari\n",
      "enter the key value:59\n",
      "enter key name:sunny\n",
      "enter the key value:60\n",
      "{'hari': 59, 'sunny': 60}\n",
      "Enter the key to search:hari\n",
      "Present\n",
      "hari = 59\n"
     ]
    }
   ],
   "source": [
    "#Qno4- Create a user input dictionary having two key:value pair and check whether one of the key given by you is pesent in the dictionary \n",
    "#Input:- {hari:59,sunny:60} Checking_input:- hari \n",
    "#Output:- hari=59\n",
    "\n",
    "d1 = {}\n",
    "print (\"Enter 2 key value pairs\")\n",
    "for i in range(2):\n",
    "    key = input(\"enter key name:\")\n",
    "    value = int(input(\"enter the key value:\"))\n",
    "    d1[key] = value\n",
    "print (d1)\n",
    "key = input(\"Enter the key to search:\")\n",
    "if (key in d1):\n",
    "    print(\"Present\")\n",
    "    print (key, \"=\", d1[key])\n",
    "else:\n",
    "    print(\"Not Present\")\n"
   ]
  },
  {
   "cell_type": "markdown",
   "id": "3e32326d",
   "metadata": {},
   "source": [
    "# LAMBDA FUNCTION"
   ]
  },
  {
   "cell_type": "code",
   "execution_count": 4,
   "id": "4d09ff16",
   "metadata": {},
   "outputs": [
    {
     "name": "stdout",
     "output_type": "stream",
     "text": [
      "30\n"
     ]
    }
   ],
   "source": [
    "# multiply 6 to agrument\n",
    "x = lambda a : a * 6 # here a = 5 as x(5)\n",
    "print(x(5))"
   ]
  },
  {
   "cell_type": "code",
   "execution_count": 8,
   "id": "b86c890b",
   "metadata": {},
   "outputs": [
    {
     "name": "stdout",
     "output_type": "stream",
     "text": [
      "Before Sorting:\n",
      "[('Eng', 88), ('Sci', 90), ('Maths', 97), ('Sst', 82)]\n",
      "\n",
      " After Sorting:\n",
      "[('Sst', 82), ('Eng', 88), ('Sci', 90), ('Maths', 97)]\n"
     ]
    }
   ],
   "source": [
    "#Qno-Write a Python program to sort a list of tuples using Lambda. \n",
    "#Input: [('Eng', 88), ('Sci', 90), ('Maths', 97), ('Sst', 82)]\n",
    "#Output: [('Sst', 82), ('Eng', 88), ('Sci', 90), ('Maths', 97)]\n",
    "\n",
    "l1 = [('Eng', 88), ('Sci', 90), ('Maths', 97), ('Sst', 82)]\n",
    "print(\"Before Sorting:\")\n",
    "print(l1)\n",
    "l1.sort(key = lambda x: x[1])\n",
    "print(\"\\n After Sorting:\")\n",
    "print(l1)"
   ]
  },
  {
   "cell_type": "markdown",
   "id": "e59e70f3",
   "metadata": {},
   "source": [
    "# Function"
   ]
  },
  {
   "cell_type": "code",
   "execution_count": 2,
   "id": "2c5ee7e9",
   "metadata": {},
   "outputs": [
    {
     "name": "stdout",
     "output_type": "stream",
     "text": [
      "Enter number(x):1\n",
      "Enter number(y):2\n",
      "coming from if\n"
     ]
    }
   ],
   "source": [
    "def func(a,b):\n",
    "    if a == 1:\n",
    "        return(\"coming from if\")\n",
    "    elif b == 1:\n",
    "        return(\"coming from elif\")\n",
    "    else:\n",
    "        return(\"No condition satisfied\")\n",
    "    \n",
    "x = int(input(\"Enter number(x):\"))\n",
    "y = int(input(\"Enter number(y):\"))\n",
    "res = func(x,y)\n",
    "print(res)"
   ]
  },
  {
   "cell_type": "code",
   "execution_count": 9,
   "id": "98570eed",
   "metadata": {},
   "outputs": [
    {
     "name": "stdout",
     "output_type": "stream",
     "text": [
      "66.0\n"
     ]
    }
   ],
   "source": [
    "#Qno-Take a Dictionary as given in input.Find the average of phy subject from the dict using function \n",
    "#Input:- dict={1:{'name':'Ram','Mark':{'phy':56,'chem':78}},2:{'name':'Hari','Mark':{'phy':76,'chem':88}}} \n",
    "#Output:- 66.0\n",
    "\n",
    "def avg(a):\n",
    "    s=c=0\n",
    "    for i in a.values():\n",
    "        s = s + i[\"Mark\"][\"phy\"]\n",
    "        c = c+1\n",
    "    print(s/c)\n",
    "dict={1:{'name':'Ram','Mark':{'phy':56,'chem':78}},2:{'name':'Hari','Mark':{'phy':76,'chem':88}}}\n",
    "avg(dict)"
   ]
  },
  {
   "cell_type": "code",
   "execution_count": null,
   "id": "9abeddc2",
   "metadata": {},
   "outputs": [],
   "source": [
    "def myfunc(n):\n",
    "    return lambda a : a * n\n",
    "\n",
    "x = myfunc(2)\n",
    "print(x(11))"
   ]
  }
 ],
 "metadata": {
  "kernelspec": {
   "display_name": "Python 3",
   "language": "python",
   "name": "python3"
  },
  "language_info": {
   "codemirror_mode": {
    "name": "ipython",
    "version": 3
   },
   "file_extension": ".py",
   "mimetype": "text/x-python",
   "name": "python",
   "nbconvert_exporter": "python",
   "pygments_lexer": "ipython3",
   "version": "3.8.8"
  }
 },
 "nbformat": 4,
 "nbformat_minor": 5
}
